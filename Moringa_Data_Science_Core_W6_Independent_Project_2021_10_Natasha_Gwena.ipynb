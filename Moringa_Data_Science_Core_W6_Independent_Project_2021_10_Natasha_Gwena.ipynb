{
  "nbformat": 4,
  "nbformat_minor": 0,
  "metadata": {
    "colab": {
      "name": "Moringa_Data_Science_Core_W6_Independent_Project_2021_10_Natasha_Gwena",
      "provenance": [],
      "toc_visible": true,
      "authorship_tag": "ABX9TyOEp3ZFJaM2UEAtaWsNAThl",
      "include_colab_link": true
    },
    "kernelspec": {
      "name": "python3",
      "display_name": "Python 3"
    },
    "language_info": {
      "name": "python"
    }
  },
  "cells": [
    {
      "cell_type": "markdown",
      "metadata": {
        "id": "view-in-github",
        "colab_type": "text"
      },
      "source": [
        "<a href=\"https://colab.research.google.com/github/NatashaGwena/CORE-WEEK-6-IP/blob/main/Moringa_Data_Science_Core_W6_Independent_Project_2021_10_Natasha_Gwena.ipynb\" target=\"_parent\"><img src=\"https://colab.research.google.com/assets/colab-badge.svg\" alt=\"Open In Colab\"/></a>"
      ]
    },
    {
      "cell_type": "markdown",
      "metadata": {
        "id": "PioJqEZEfSCr"
      },
      "source": [
        "# **Overview** \n",
        "\n",
        "You have been recruited as a football analyst in a company - Mchezopesa Ltd and tasked to accomplish the task below.\n",
        "\n",
        "A prediction result of a game between team 1 and team 2, based on who's home and who's away, and on whether or not the game is friendly (include rank in your training).\n",
        "\n",
        "You have two possible approaches (as  shown below) given the datasets that will be provided\n",
        "\n",
        "Input: Home team, Away team, Tournament type (World cup, Friendly, Other)\n",
        "\n",
        "**Approach 1: Polynomial approach**\n",
        "\n",
        "What to train given:\n",
        "\n",
        "Rank of home team\n",
        "Rank of away team\n",
        "Tournament type\n",
        "Model 1: Predict how many goals the home team scores.\n",
        "\n",
        "Model 2: Predict how many goals the away team scores.\n",
        "\n",
        "**Approach 2: Logistic approach**\n",
        "\n",
        "Feature Engineering: Figure out from the home team’s perspective if the game is a Win, Lose or Draw (W, L, D)"
      ]
    },
    {
      "cell_type": "markdown",
      "metadata": {
        "id": "puvaXNQEfSKT"
      },
      "source": [
        "# 1. Defining the Question"
      ]
    },
    {
      "cell_type": "markdown",
      "metadata": {
        "id": "WcILC5pFfSRM"
      },
      "source": [
        "## a) Specifying the Data Analytic Question\n",
        "\n",
        "To create a model that will predict the result of a game between team 1 and team 2, based on who's home and who's away, and on whether or not the game is friendly while checking the rankings of the team.\n",
        "\n"
      ]
    },
    {
      "cell_type": "markdown",
      "metadata": {
        "id": "pH0IC1pxfSaf"
      },
      "source": [
        "## b) Defining the Metric for Success\n",
        "\n",
        "The project will be considered a success if the models created are able to predict results of a game to an assurity of above 80%"
      ]
    },
    {
      "cell_type": "markdown",
      "metadata": {
        "id": "enCNSi5Za7lX"
      },
      "source": [
        "## c) Understanding the context \n",
        "\n",
        "The men's FIFA World Ranking is a ranking system for men's national teams in association football. The teams of the men's member nations of FIFA, football's world governing body, are ranked based on their game results with the most successful teams being ranked highest. The rankings were introduced in December 1992.\n",
        "\n",
        "How the rankings are calculated:\n",
        "\n",
        "The rankings are calculated using an algorithm called Elo. The Elo method of calculation adds/subtracts points (as opposed to averaging points) for individual matches to/from a team’s existing point total. The points which are added or subtracted are partially determined by the relative strength of the two opponents, including the logical expectation that teams higher in the ranking should fare better against teams lower in the ranking."
      ]
    },
    {
      "cell_type": "markdown",
      "metadata": {
        "id": "Ag38SuidbAdu"
      },
      "source": [
        "## d) Experimental design taken"
      ]
    },
    {
      "cell_type": "markdown",
      "metadata": {
        "id": "NKLH5f1jbFC9"
      },
      "source": [
        "In this study, we will be conducting Explorative Data Analysis, i.e Univariate, Bivariate and Multivariate Analysis to get the relationships and differences between different variables. We will also create models using polynomial regression and logistic regression"
      ]
    },
    {
      "cell_type": "markdown",
      "metadata": {
        "id": "IvheH5Nhctrm"
      },
      "source": [
        "## e) Data Relevance\n",
        "\n",
        "We will be using data two datasets\n",
        "\n",
        "FIFA rankings from 1993 to 2018 as fifa_rankings.csv\n",
        "This one shows the FIFA ranking and points for the teams. It shows a monthly ranking of team performance\n",
        "\n",
        "International Soccer matches from 1872 to 2019 as results.csv\n",
        "This one shows teams, scores, tournament type and country the game was played from\n",
        "\n",
        "Both our datasets consists of information on football rankings over time and are therefore suitable to create a model that will be used to predict the result of a game between team 1 and team 2, based on who's home and who's away, and on whether or not the game is friendly while checking the rankings of the team."
      ]
    },
    {
      "cell_type": "markdown",
      "metadata": {
        "id": "SnATz0sRdaYX"
      },
      "source": [
        "# 2. Reading the Data and Checking the Datasets"
      ]
    },
    {
      "cell_type": "code",
      "metadata": {
        "id": "-EyuouTpbEEo"
      },
      "source": [
        "#First we will import the necessary libraries\n",
        "import warnings\n",
        "warnings.filterwarnings('ignore')\n",
        "\n",
        "import numpy as np\n",
        "import pandas as pd\n",
        "import matplotlib.pyplot as plt\n",
        "import seaborn as sns\n",
        "import scipy.stats as stats"
      ],
      "execution_count": 1,
      "outputs": []
    },
    {
      "cell_type": "code",
      "metadata": {
        "colab": {
          "base_uri": "https://localhost:8080/",
          "height": 215
        },
        "id": "EP5gW_e4djU-",
        "outputId": "e7eefb3b-f6c1-423e-f155-a75511231e27"
      },
      "source": [
        "# Loading the Data from the source\n",
        "# ---\n",
        "ranking = pd.read_csv('fifa_ranking.csv')\n",
        "#Previewing the upper part of the data\n",
        "ranking.head(3)"
      ],
      "execution_count": 2,
      "outputs": [
        {
          "output_type": "execute_result",
          "data": {
            "text/html": [
              "<div>\n",
              "<style scoped>\n",
              "    .dataframe tbody tr th:only-of-type {\n",
              "        vertical-align: middle;\n",
              "    }\n",
              "\n",
              "    .dataframe tbody tr th {\n",
              "        vertical-align: top;\n",
              "    }\n",
              "\n",
              "    .dataframe thead th {\n",
              "        text-align: right;\n",
              "    }\n",
              "</style>\n",
              "<table border=\"1\" class=\"dataframe\">\n",
              "  <thead>\n",
              "    <tr style=\"text-align: right;\">\n",
              "      <th></th>\n",
              "      <th>rank</th>\n",
              "      <th>country_full</th>\n",
              "      <th>country_abrv</th>\n",
              "      <th>total_points</th>\n",
              "      <th>previous_points</th>\n",
              "      <th>rank_change</th>\n",
              "      <th>cur_year_avg</th>\n",
              "      <th>cur_year_avg_weighted</th>\n",
              "      <th>last_year_avg</th>\n",
              "      <th>last_year_avg_weighted</th>\n",
              "      <th>two_year_ago_avg</th>\n",
              "      <th>two_year_ago_weighted</th>\n",
              "      <th>three_year_ago_avg</th>\n",
              "      <th>three_year_ago_weighted</th>\n",
              "      <th>confederation</th>\n",
              "      <th>rank_date</th>\n",
              "    </tr>\n",
              "  </thead>\n",
              "  <tbody>\n",
              "    <tr>\n",
              "      <th>0</th>\n",
              "      <td>1</td>\n",
              "      <td>Germany</td>\n",
              "      <td>GER</td>\n",
              "      <td>0.0</td>\n",
              "      <td>57</td>\n",
              "      <td>0</td>\n",
              "      <td>0.0</td>\n",
              "      <td>0.0</td>\n",
              "      <td>0.0</td>\n",
              "      <td>0.0</td>\n",
              "      <td>0.0</td>\n",
              "      <td>0.0</td>\n",
              "      <td>0.0</td>\n",
              "      <td>0.0</td>\n",
              "      <td>UEFA</td>\n",
              "      <td>1993-08-08</td>\n",
              "    </tr>\n",
              "    <tr>\n",
              "      <th>1</th>\n",
              "      <td>2</td>\n",
              "      <td>Italy</td>\n",
              "      <td>ITA</td>\n",
              "      <td>0.0</td>\n",
              "      <td>57</td>\n",
              "      <td>0</td>\n",
              "      <td>0.0</td>\n",
              "      <td>0.0</td>\n",
              "      <td>0.0</td>\n",
              "      <td>0.0</td>\n",
              "      <td>0.0</td>\n",
              "      <td>0.0</td>\n",
              "      <td>0.0</td>\n",
              "      <td>0.0</td>\n",
              "      <td>UEFA</td>\n",
              "      <td>1993-08-08</td>\n",
              "    </tr>\n",
              "    <tr>\n",
              "      <th>2</th>\n",
              "      <td>3</td>\n",
              "      <td>Switzerland</td>\n",
              "      <td>SUI</td>\n",
              "      <td>0.0</td>\n",
              "      <td>50</td>\n",
              "      <td>9</td>\n",
              "      <td>0.0</td>\n",
              "      <td>0.0</td>\n",
              "      <td>0.0</td>\n",
              "      <td>0.0</td>\n",
              "      <td>0.0</td>\n",
              "      <td>0.0</td>\n",
              "      <td>0.0</td>\n",
              "      <td>0.0</td>\n",
              "      <td>UEFA</td>\n",
              "      <td>1993-08-08</td>\n",
              "    </tr>\n",
              "  </tbody>\n",
              "</table>\n",
              "</div>"
            ],
            "text/plain": [
              "   rank country_full  ... confederation   rank_date\n",
              "0     1      Germany  ...          UEFA  1993-08-08\n",
              "1     2        Italy  ...          UEFA  1993-08-08\n",
              "2     3  Switzerland  ...          UEFA  1993-08-08\n",
              "\n",
              "[3 rows x 16 columns]"
            ]
          },
          "metadata": {},
          "execution_count": 2
        }
      ]
    },
    {
      "cell_type": "code",
      "metadata": {
        "colab": {
          "base_uri": "https://localhost:8080/",
          "height": 215
        },
        "id": "mspLF1bMspaI",
        "outputId": "b317b111-845e-4720-bb8a-3bad4e4f7ca8"
      },
      "source": [
        "  #Previewing the lower part of the data\n",
        "  ranking.tail(3) "
      ],
      "execution_count": 3,
      "outputs": [
        {
          "output_type": "execute_result",
          "data": {
            "text/html": [
              "<div>\n",
              "<style scoped>\n",
              "    .dataframe tbody tr th:only-of-type {\n",
              "        vertical-align: middle;\n",
              "    }\n",
              "\n",
              "    .dataframe tbody tr th {\n",
              "        vertical-align: top;\n",
              "    }\n",
              "\n",
              "    .dataframe thead th {\n",
              "        text-align: right;\n",
              "    }\n",
              "</style>\n",
              "<table border=\"1\" class=\"dataframe\">\n",
              "  <thead>\n",
              "    <tr style=\"text-align: right;\">\n",
              "      <th></th>\n",
              "      <th>rank</th>\n",
              "      <th>country_full</th>\n",
              "      <th>country_abrv</th>\n",
              "      <th>total_points</th>\n",
              "      <th>previous_points</th>\n",
              "      <th>rank_change</th>\n",
              "      <th>cur_year_avg</th>\n",
              "      <th>cur_year_avg_weighted</th>\n",
              "      <th>last_year_avg</th>\n",
              "      <th>last_year_avg_weighted</th>\n",
              "      <th>two_year_ago_avg</th>\n",
              "      <th>two_year_ago_weighted</th>\n",
              "      <th>three_year_ago_avg</th>\n",
              "      <th>three_year_ago_weighted</th>\n",
              "      <th>confederation</th>\n",
              "      <th>rank_date</th>\n",
              "    </tr>\n",
              "  </thead>\n",
              "  <tbody>\n",
              "    <tr>\n",
              "      <th>57790</th>\n",
              "      <td>206</td>\n",
              "      <td>Eritrea</td>\n",
              "      <td>ERI</td>\n",
              "      <td>0.0</td>\n",
              "      <td>0</td>\n",
              "      <td>1</td>\n",
              "      <td>0.0</td>\n",
              "      <td>0.0</td>\n",
              "      <td>0.0</td>\n",
              "      <td>0.0</td>\n",
              "      <td>0.0</td>\n",
              "      <td>0.0</td>\n",
              "      <td>0.0</td>\n",
              "      <td>0.0</td>\n",
              "      <td>CAF</td>\n",
              "      <td>2018-06-07</td>\n",
              "    </tr>\n",
              "    <tr>\n",
              "      <th>57791</th>\n",
              "      <td>206</td>\n",
              "      <td>Somalia</td>\n",
              "      <td>SOM</td>\n",
              "      <td>0.0</td>\n",
              "      <td>0</td>\n",
              "      <td>1</td>\n",
              "      <td>0.0</td>\n",
              "      <td>0.0</td>\n",
              "      <td>0.0</td>\n",
              "      <td>0.0</td>\n",
              "      <td>0.0</td>\n",
              "      <td>0.0</td>\n",
              "      <td>0.0</td>\n",
              "      <td>0.0</td>\n",
              "      <td>CAF</td>\n",
              "      <td>2018-06-07</td>\n",
              "    </tr>\n",
              "    <tr>\n",
              "      <th>57792</th>\n",
              "      <td>206</td>\n",
              "      <td>Tonga</td>\n",
              "      <td>TGA</td>\n",
              "      <td>0.0</td>\n",
              "      <td>0</td>\n",
              "      <td>1</td>\n",
              "      <td>0.0</td>\n",
              "      <td>0.0</td>\n",
              "      <td>0.0</td>\n",
              "      <td>0.0</td>\n",
              "      <td>0.0</td>\n",
              "      <td>0.0</td>\n",
              "      <td>0.0</td>\n",
              "      <td>0.0</td>\n",
              "      <td>OFC</td>\n",
              "      <td>2018-06-07</td>\n",
              "    </tr>\n",
              "  </tbody>\n",
              "</table>\n",
              "</div>"
            ],
            "text/plain": [
              "       rank country_full  ... confederation   rank_date\n",
              "57790   206      Eritrea  ...           CAF  2018-06-07\n",
              "57791   206      Somalia  ...           CAF  2018-06-07\n",
              "57792   206        Tonga  ...           OFC  2018-06-07\n",
              "\n",
              "[3 rows x 16 columns]"
            ]
          },
          "metadata": {},
          "execution_count": 3
        }
      ]
    },
    {
      "cell_type": "code",
      "metadata": {
        "colab": {
          "base_uri": "https://localhost:8080/",
          "height": 205
        },
        "id": "DbuhsmiiDZTd",
        "outputId": "95b20ed0-8ba3-49cc-92b0-998840ba9dc3"
      },
      "source": [
        "# Loading the results Dataframe \n",
        "# ---\n",
        "results = pd.read_csv('results.csv')\n",
        "#Previewing the upper part of the data\n",
        "results.head()"
      ],
      "execution_count": 4,
      "outputs": [
        {
          "output_type": "execute_result",
          "data": {
            "text/html": [
              "<div>\n",
              "<style scoped>\n",
              "    .dataframe tbody tr th:only-of-type {\n",
              "        vertical-align: middle;\n",
              "    }\n",
              "\n",
              "    .dataframe tbody tr th {\n",
              "        vertical-align: top;\n",
              "    }\n",
              "\n",
              "    .dataframe thead th {\n",
              "        text-align: right;\n",
              "    }\n",
              "</style>\n",
              "<table border=\"1\" class=\"dataframe\">\n",
              "  <thead>\n",
              "    <tr style=\"text-align: right;\">\n",
              "      <th></th>\n",
              "      <th>date</th>\n",
              "      <th>home_team</th>\n",
              "      <th>away_team</th>\n",
              "      <th>home_score</th>\n",
              "      <th>away_score</th>\n",
              "      <th>tournament</th>\n",
              "      <th>city</th>\n",
              "      <th>country</th>\n",
              "      <th>neutral</th>\n",
              "    </tr>\n",
              "  </thead>\n",
              "  <tbody>\n",
              "    <tr>\n",
              "      <th>0</th>\n",
              "      <td>1872-11-30</td>\n",
              "      <td>Scotland</td>\n",
              "      <td>England</td>\n",
              "      <td>0</td>\n",
              "      <td>0</td>\n",
              "      <td>Friendly</td>\n",
              "      <td>Glasgow</td>\n",
              "      <td>Scotland</td>\n",
              "      <td>False</td>\n",
              "    </tr>\n",
              "    <tr>\n",
              "      <th>1</th>\n",
              "      <td>1873-03-08</td>\n",
              "      <td>England</td>\n",
              "      <td>Scotland</td>\n",
              "      <td>4</td>\n",
              "      <td>2</td>\n",
              "      <td>Friendly</td>\n",
              "      <td>London</td>\n",
              "      <td>England</td>\n",
              "      <td>False</td>\n",
              "    </tr>\n",
              "    <tr>\n",
              "      <th>2</th>\n",
              "      <td>1874-03-07</td>\n",
              "      <td>Scotland</td>\n",
              "      <td>England</td>\n",
              "      <td>2</td>\n",
              "      <td>1</td>\n",
              "      <td>Friendly</td>\n",
              "      <td>Glasgow</td>\n",
              "      <td>Scotland</td>\n",
              "      <td>False</td>\n",
              "    </tr>\n",
              "    <tr>\n",
              "      <th>3</th>\n",
              "      <td>1875-03-06</td>\n",
              "      <td>England</td>\n",
              "      <td>Scotland</td>\n",
              "      <td>2</td>\n",
              "      <td>2</td>\n",
              "      <td>Friendly</td>\n",
              "      <td>London</td>\n",
              "      <td>England</td>\n",
              "      <td>False</td>\n",
              "    </tr>\n",
              "    <tr>\n",
              "      <th>4</th>\n",
              "      <td>1876-03-04</td>\n",
              "      <td>Scotland</td>\n",
              "      <td>England</td>\n",
              "      <td>3</td>\n",
              "      <td>0</td>\n",
              "      <td>Friendly</td>\n",
              "      <td>Glasgow</td>\n",
              "      <td>Scotland</td>\n",
              "      <td>False</td>\n",
              "    </tr>\n",
              "  </tbody>\n",
              "</table>\n",
              "</div>"
            ],
            "text/plain": [
              "         date home_team away_team  ...     city   country neutral\n",
              "0  1872-11-30  Scotland   England  ...  Glasgow  Scotland   False\n",
              "1  1873-03-08   England  Scotland  ...   London   England   False\n",
              "2  1874-03-07  Scotland   England  ...  Glasgow  Scotland   False\n",
              "3  1875-03-06   England  Scotland  ...   London   England   False\n",
              "4  1876-03-04  Scotland   England  ...  Glasgow  Scotland   False\n",
              "\n",
              "[5 rows x 9 columns]"
            ]
          },
          "metadata": {},
          "execution_count": 4
        }
      ]
    },
    {
      "cell_type": "code",
      "metadata": {
        "colab": {
          "base_uri": "https://localhost:8080/",
          "height": 292
        },
        "id": "RAumaDd4E_Zp",
        "outputId": "bc0eacd4-8806-4083-a80b-c95822888380"
      },
      "source": [
        "results.tail()"
      ],
      "execution_count": 5,
      "outputs": [
        {
          "output_type": "execute_result",
          "data": {
            "text/html": [
              "<div>\n",
              "<style scoped>\n",
              "    .dataframe tbody tr th:only-of-type {\n",
              "        vertical-align: middle;\n",
              "    }\n",
              "\n",
              "    .dataframe tbody tr th {\n",
              "        vertical-align: top;\n",
              "    }\n",
              "\n",
              "    .dataframe thead th {\n",
              "        text-align: right;\n",
              "    }\n",
              "</style>\n",
              "<table border=\"1\" class=\"dataframe\">\n",
              "  <thead>\n",
              "    <tr style=\"text-align: right;\">\n",
              "      <th></th>\n",
              "      <th>date</th>\n",
              "      <th>home_team</th>\n",
              "      <th>away_team</th>\n",
              "      <th>home_score</th>\n",
              "      <th>away_score</th>\n",
              "      <th>tournament</th>\n",
              "      <th>city</th>\n",
              "      <th>country</th>\n",
              "      <th>neutral</th>\n",
              "    </tr>\n",
              "  </thead>\n",
              "  <tbody>\n",
              "    <tr>\n",
              "      <th>40834</th>\n",
              "      <td>2019-07-18</td>\n",
              "      <td>American Samoa</td>\n",
              "      <td>Tahiti</td>\n",
              "      <td>8</td>\n",
              "      <td>1</td>\n",
              "      <td>Pacific Games</td>\n",
              "      <td>Apia</td>\n",
              "      <td>Samoa</td>\n",
              "      <td>True</td>\n",
              "    </tr>\n",
              "    <tr>\n",
              "      <th>40835</th>\n",
              "      <td>2019-07-18</td>\n",
              "      <td>Fiji</td>\n",
              "      <td>Solomon Islands</td>\n",
              "      <td>4</td>\n",
              "      <td>4</td>\n",
              "      <td>Pacific Games</td>\n",
              "      <td>Apia</td>\n",
              "      <td>Samoa</td>\n",
              "      <td>True</td>\n",
              "    </tr>\n",
              "    <tr>\n",
              "      <th>40836</th>\n",
              "      <td>2019-07-19</td>\n",
              "      <td>Senegal</td>\n",
              "      <td>Algeria</td>\n",
              "      <td>0</td>\n",
              "      <td>1</td>\n",
              "      <td>African Cup of Nations</td>\n",
              "      <td>Cairo</td>\n",
              "      <td>Egypt</td>\n",
              "      <td>True</td>\n",
              "    </tr>\n",
              "    <tr>\n",
              "      <th>40837</th>\n",
              "      <td>2019-07-19</td>\n",
              "      <td>Tajikistan</td>\n",
              "      <td>North Korea</td>\n",
              "      <td>0</td>\n",
              "      <td>1</td>\n",
              "      <td>Intercontinental Cup</td>\n",
              "      <td>Ahmedabad</td>\n",
              "      <td>India</td>\n",
              "      <td>True</td>\n",
              "    </tr>\n",
              "    <tr>\n",
              "      <th>40838</th>\n",
              "      <td>2019-07-20</td>\n",
              "      <td>Papua New Guinea</td>\n",
              "      <td>Fiji</td>\n",
              "      <td>1</td>\n",
              "      <td>1</td>\n",
              "      <td>Pacific Games</td>\n",
              "      <td>Apia</td>\n",
              "      <td>Samoa</td>\n",
              "      <td>True</td>\n",
              "    </tr>\n",
              "  </tbody>\n",
              "</table>\n",
              "</div>"
            ],
            "text/plain": [
              "             date         home_team  ... country  neutral\n",
              "40834  2019-07-18    American Samoa  ...   Samoa     True\n",
              "40835  2019-07-18              Fiji  ...   Samoa     True\n",
              "40836  2019-07-19           Senegal  ...   Egypt     True\n",
              "40837  2019-07-19        Tajikistan  ...   India     True\n",
              "40838  2019-07-20  Papua New Guinea  ...   Samoa     True\n",
              "\n",
              "[5 rows x 9 columns]"
            ]
          },
          "metadata": {},
          "execution_count": 5
        }
      ]
    },
    {
      "cell_type": "code",
      "metadata": {
        "colab": {
          "base_uri": "https://localhost:8080/"
        },
        "id": "dLhIPQE4FAR2",
        "outputId": "43f1b9f9-7ce8-497a-8555-508d76f32c9b"
      },
      "source": [
        "# Determining the no. of records in our dataset\n",
        "#\n",
        "print(\"The respective rows and columns for the ranking dataset: \", ranking.shape)\n",
        "print(\"The respective rows and columns for the results dataset: \", results.shape)"
      ],
      "execution_count": 6,
      "outputs": [
        {
          "output_type": "stream",
          "name": "stdout",
          "text": [
            "The respective rows and columns for the ranking dataset:  (57793, 16)\n",
            "The respective rows and columns for the results dataset:  (40839, 9)\n"
          ]
        }
      ]
    },
    {
      "cell_type": "code",
      "metadata": {
        "colab": {
          "base_uri": "https://localhost:8080/"
        },
        "id": "ziuIqtyMLZAg",
        "outputId": "577ccb1d-b228-483d-eb37-65bdc35be0e9"
      },
      "source": [
        "#Getting column names\n",
        "print(\"Columns for ranking dataset: \")\n",
        "print(ranking.columns)\n",
        "print(\"*****************\")\n",
        "print(\"Columns for results dataset: \")\n",
        "print(results.columns)"
      ],
      "execution_count": 7,
      "outputs": [
        {
          "output_type": "stream",
          "name": "stdout",
          "text": [
            "Columns for ranking dataset: \n",
            "Index(['rank', 'country_full', 'country_abrv', 'total_points',\n",
            "       'previous_points', 'rank_change', 'cur_year_avg',\n",
            "       'cur_year_avg_weighted', 'last_year_avg', 'last_year_avg_weighted',\n",
            "       'two_year_ago_avg', 'two_year_ago_weighted', 'three_year_ago_avg',\n",
            "       'three_year_ago_weighted', 'confederation', 'rank_date'],\n",
            "      dtype='object')\n",
            "*****************\n",
            "Columns for results dataset: \n",
            "Index(['date', 'home_team', 'away_team', 'home_score', 'away_score',\n",
            "       'tournament', 'city', 'country', 'neutral'],\n",
            "      dtype='object')\n"
          ]
        }
      ]
    },
    {
      "cell_type": "code",
      "metadata": {
        "colab": {
          "base_uri": "https://localhost:8080/"
        },
        "id": "B9nThfelLd6O",
        "outputId": "3dfa90ce-1b0b-40e4-801c-966301d7130a"
      },
      "source": [
        "# Checking whether each column has an appropriate datatype\n",
        "\n",
        "print(\"Datatypes for ranking dataset: \")\n",
        "print(ranking.dtypes)\n",
        "print(\"*****************\")\n",
        "print(\"Datatypes for results dataset: \")\n",
        "print(results.dtypes)"
      ],
      "execution_count": 8,
      "outputs": [
        {
          "output_type": "stream",
          "name": "stdout",
          "text": [
            "Datatypes for ranking dataset: \n",
            "rank                         int64\n",
            "country_full                object\n",
            "country_abrv                object\n",
            "total_points               float64\n",
            "previous_points              int64\n",
            "rank_change                  int64\n",
            "cur_year_avg               float64\n",
            "cur_year_avg_weighted      float64\n",
            "last_year_avg              float64\n",
            "last_year_avg_weighted     float64\n",
            "two_year_ago_avg           float64\n",
            "two_year_ago_weighted      float64\n",
            "three_year_ago_avg         float64\n",
            "three_year_ago_weighted    float64\n",
            "confederation               object\n",
            "rank_date                   object\n",
            "dtype: object\n",
            "*****************\n",
            "Datatypes for results dataset: \n",
            "date          object\n",
            "home_team     object\n",
            "away_team     object\n",
            "home_score     int64\n",
            "away_score     int64\n",
            "tournament    object\n",
            "city          object\n",
            "country       object\n",
            "neutral         bool\n",
            "dtype: object\n"
          ]
        }
      ]
    },
    {
      "cell_type": "markdown",
      "metadata": {
        "id": "kFPrDHQCLl6Z"
      },
      "source": [
        "# 3. Tidying the Dataset"
      ]
    },
    {
      "cell_type": "code",
      "metadata": {
        "id": "biJ1A-cBLpqe"
      },
      "source": [
        "#First, we change the columns containing dates from the datatype object\n",
        "#to datetime in both datasets\n",
        "ranking['rank_date'] = pd.to_datetime(ranking['rank_date'])\n",
        "results['date'] = pd.to_datetime(results['date'])"
      ],
      "execution_count": 9,
      "outputs": []
    },
    {
      "cell_type": "code",
      "metadata": {
        "colab": {
          "base_uri": "https://localhost:8080/"
        },
        "id": "px6jeWEgLxA3",
        "outputId": "e30dcb6a-8011-4e4e-fb41-454499c73df1"
      },
      "source": [
        "#Checking for null values\n",
        "results.isnull().sum()"
      ],
      "execution_count": 10,
      "outputs": [
        {
          "output_type": "execute_result",
          "data": {
            "text/plain": [
              "date          0\n",
              "home_team     0\n",
              "away_team     0\n",
              "home_score    0\n",
              "away_score    0\n",
              "tournament    0\n",
              "city          0\n",
              "country       0\n",
              "neutral       0\n",
              "dtype: int64"
            ]
          },
          "metadata": {},
          "execution_count": 10
        }
      ]
    },
    {
      "cell_type": "code",
      "metadata": {
        "colab": {
          "base_uri": "https://localhost:8080/"
        },
        "id": "RN_fWl0aL0zg",
        "outputId": "5de95b68-949f-4b19-8dac-07c8634f9cc9"
      },
      "source": [
        "ranking.isnull().sum()"
      ],
      "execution_count": 11,
      "outputs": [
        {
          "output_type": "execute_result",
          "data": {
            "text/plain": [
              "rank                       0\n",
              "country_full               0\n",
              "country_abrv               0\n",
              "total_points               0\n",
              "previous_points            0\n",
              "rank_change                0\n",
              "cur_year_avg               0\n",
              "cur_year_avg_weighted      0\n",
              "last_year_avg              0\n",
              "last_year_avg_weighted     0\n",
              "two_year_ago_avg           0\n",
              "two_year_ago_weighted      0\n",
              "three_year_ago_avg         0\n",
              "three_year_ago_weighted    0\n",
              "confederation              0\n",
              "rank_date                  0\n",
              "dtype: int64"
            ]
          },
          "metadata": {},
          "execution_count": 11
        }
      ]
    },
    {
      "cell_type": "code",
      "metadata": {
        "colab": {
          "base_uri": "https://localhost:8080/"
        },
        "id": "mlrMB10vL4pe",
        "outputId": "20a7ebe9-9733-451f-b1c3-b3c406a857eb"
      },
      "source": [
        "results.columns"
      ],
      "execution_count": 12,
      "outputs": [
        {
          "output_type": "execute_result",
          "data": {
            "text/plain": [
              "Index(['date', 'home_team', 'away_team', 'home_score', 'away_score',\n",
              "       'tournament', 'city', 'country', 'neutral'],\n",
              "      dtype='object')"
            ]
          },
          "metadata": {},
          "execution_count": 12
        }
      ]
    },
    {
      "cell_type": "code",
      "metadata": {
        "colab": {
          "base_uri": "https://localhost:8080/"
        },
        "id": "mcYGuM67L5RF",
        "outputId": "9eb1ac0d-ff0d-457a-b6af-1360228ba202"
      },
      "source": [
        "# Checking for Anomalies\n",
        "ranking['country_full'].unique()"
      ],
      "execution_count": 13,
      "outputs": [
        {
          "output_type": "execute_result",
          "data": {
            "text/plain": [
              "array(['Germany', 'Italy', 'Switzerland', 'Sweden', 'Argentina',\n",
              "       'Republic of Ireland', 'Russia', 'Brazil', 'Norway', 'Denmark',\n",
              "       'England', 'France', 'Spain', 'Mexico', 'RCS', 'Netherlands',\n",
              "       'Nigeria', 'Belgium', 'Colombia', 'Poland', 'Romania', 'Uruguay',\n",
              "       'Portugal', 'Cameroon', 'Zambia', 'Egypt', 'Wales', 'USA',\n",
              "       \"Côte d'Ivoire\", 'Scotland', 'Tunisia', 'Greece', 'Morocco',\n",
              "       'Algeria', 'Ecuador', 'Korea Republic', 'Bulgaria', 'Austria',\n",
              "       'Costa Rica', 'Northern Ireland', 'Honduras', 'Hungary', 'Japan',\n",
              "       'Saudi Arabia', 'China PR', 'Canada', 'Finland', 'Ghana', 'Chile',\n",
              "       'Zimbabwe', 'Qatar', 'Australia', 'Iceland', 'IR Iran',\n",
              "       'United Arab Emirates', 'Yugoslavia', 'Iraq', 'Senegal', 'Bolivia',\n",
              "       'Kuwait', 'Korea DPR', 'El Salvador', 'Turkey', 'Gabon', 'Guinea',\n",
              "       'Thailand', 'Paraguay', 'Malawi', 'Israel', 'Peru', 'Zaire',\n",
              "       'Cyprus', 'Singapore', 'Mali', 'Malaysia', 'Bermuda', 'Niger',\n",
              "       'Syria', 'Bahrain', 'New Zealand', 'Madagascar', 'Malta',\n",
              "       'Jamaica', 'Lithuania', 'Trinidad and Tobago', 'Sierra Leone',\n",
              "       'Jordan', 'Kenya', 'Latvia', 'Yemen', 'Tanzania', 'Albania',\n",
              "       'Angola', 'Venezuela', 'Ethiopia', 'Burundi', 'Oman', 'Indonesia',\n",
              "       'Liberia', 'Mozambique', 'Puerto Rico', 'Swaziland', 'Hong Kong',\n",
              "       'Uganda', 'Barbados', 'Myanmar', 'Congo', 'Lebanon',\n",
              "       'South Africa', 'Luxembourg', 'Faroe Islands', 'Guatemala',\n",
              "       'Burkina Faso', 'Togo', 'Suriname', 'Fiji', 'Croatia', 'Estonia',\n",
              "       'San Marino', 'Bangladesh', 'St Vincent and the Grenadines',\n",
              "       'Netherlands Antilles', 'Mauritius', 'Benin', 'Panama', 'Sudan',\n",
              "       'Antigua and Barbuda', 'Slovenia', 'India', 'Belarus', 'Ukraine',\n",
              "       'Vietnam', 'Guinea-Bissau', 'Guyana', 'Botswana', 'St Lucia',\n",
              "       'Tahiti', 'Grenada', 'Haiti', 'Libya', 'Laos', 'Mauritania',\n",
              "       'Cape Verde Islands', 'Solomon Islands', 'Brunei Darussalam',\n",
              "       'Lesotho', 'Dominican Republic', 'Pakistan', 'Nicaragua', 'Cuba',\n",
              "       'Seychelles', 'Central African Republic', 'Gambia', 'Namibia',\n",
              "       'Cayman Islands', 'Nepal', 'Liechtenstein', 'Equatorial Guinea',\n",
              "       'Chinese Taipei', 'Sri Lanka', 'Philippines', 'Chad', 'Vanuatu',\n",
              "       'Aruba', 'Bahamas', 'Maldives', 'Macau', 'Slovakia',\n",
              "       'St Kitts and Nevis', 'Czech Republic', 'Georgia', 'FYR Macedonia',\n",
              "       'Moldova', 'Armenia', 'Azerbaijan', 'Uzbekistan', 'Turkmenistan',\n",
              "       'Kazakhstan', 'Tajikistan', 'Kyrgyz Republic', 'Somalia',\n",
              "       'Djibouti', 'Dominica', 'Rwanda', 'Belize', 'Cambodia',\n",
              "       'Bosnia and Herzegovina', 'Guam', 'Papua New Guinea', 'Tonga',\n",
              "       'Samoa', 'Andorra', 'Cook Islands', 'British Virgin Islands',\n",
              "       'Anguilla', 'São Tomé e Príncipe', 'Eritrea', 'American Samoa',\n",
              "       'Palestine', 'Mongolia', 'Turks and Caicos Islands',\n",
              "       'US Virgin Islands', 'Montserrat', 'Congo DR', 'Bhutan',\n",
              "       'Serbia and Montenegro', 'Afghanistan', 'New Caledonia', 'Serbia',\n",
              "       'Timor-Leste', 'Comoros', 'Montenegro', 'Curaçao', 'South Sudan',\n",
              "       'Kosovo', 'Gibraltar'], dtype=object)"
            ]
          },
          "metadata": {},
          "execution_count": 13
        }
      ]
    },
    {
      "cell_type": "code",
      "metadata": {
        "colab": {
          "base_uri": "https://localhost:8080/"
        },
        "id": "6FvUVA-tL8Ah",
        "outputId": "0913196a-410d-4ffa-9c8b-362a23b93c51"
      },
      "source": [
        "results['country'].unique()"
      ],
      "execution_count": 14,
      "outputs": [
        {
          "output_type": "execute_result",
          "data": {
            "text/plain": [
              "array(['Scotland', 'England', 'Wales', 'Republic of Ireland',\n",
              "       'United States', 'Uruguay', 'Austria', 'Hungary', 'Argentina',\n",
              "       'Belgium', 'France', 'Netherlands', 'Bohemia', 'Switzerland',\n",
              "       'Sweden', 'Germany', 'Italy', 'Chile', 'Norway', 'Finland',\n",
              "       'Luxembourg', 'Russia', 'Denmark', 'Spain', 'Japan', 'Brazil',\n",
              "       'Paraguay', 'China PR', 'Canada', 'Estonia', 'Guatemala',\n",
              "       'Czechoslovakia', 'Poland', 'Yugoslavia', 'New Zealand', 'Romania',\n",
              "       'Latvia', 'Portugal', 'Northern Ireland', 'Australia', 'Lithuania',\n",
              "       'Turkey', 'Mexico', 'Aruba', 'Soviet Union', 'Haiti',\n",
              "       'Philippines', 'Bulgaria', 'Jamaica', 'Kenya', 'Czech Republic',\n",
              "       'Peru', 'Honduras', 'British Guyana', 'Uganda', 'El Salvador',\n",
              "       'Barbados', 'Irish Free State', 'Trinidad and Tobago', 'Greece',\n",
              "       'Curaçao', 'Egypt', 'Dominica', 'Guadeloupe', 'Palestine',\n",
              "       'Netherlands Guyana', 'French Guiana', 'Cuba', 'Colombia',\n",
              "       'Saint Kitts and Nevis', 'Éire', 'Panama', 'Bohemia and Moravia',\n",
              "       'Slovakia', 'Manchuria', 'Croatia', 'Costa Rica', 'Afghanistan',\n",
              "       'Martinique', 'Southern Rhodesia', 'Iceland', 'Albania',\n",
              "       'Madagascar', 'Northern Rhodesia', 'Tanganyika', 'Iran', 'Ecuador',\n",
              "       'French Somaliland', 'Belgian Congo', 'Mauritius', 'Hong Kong',\n",
              "       'Vietnam', 'Macau', 'Ethiopia', 'Suriname', 'Puerto Rico',\n",
              "       'Réunion', 'Israel', 'Sierra Leone', 'Zanzibar', 'Bolivia',\n",
              "       'Gold Coast', 'South Africa', 'Netherlands Antilles',\n",
              "       'New Caledonia', 'Fiji', 'Nigeria', 'Venezuela', 'Ceylon',\n",
              "       'French Polynesia', 'Gambia', 'Singapore', 'Portuguese Guinea',\n",
              "       'German DR', 'New Hebrides', 'Burma', 'Saarland', 'Cambodia',\n",
              "       'India', 'Lebanon', 'Pakistan', 'Malaya', 'South Korea',\n",
              "       'Vietnam Republic', 'Togo', 'Indonesia', 'Sudan', 'Malta', 'Syria',\n",
              "       'Tunisia', 'Nyasaland', 'Ghana', 'Morocco', 'United Arab Republic',\n",
              "       'North Korea', 'Dahomey', 'Guinea-Bissau', 'Mali Federation',\n",
              "       'Mali', 'Vietnam DR', 'Cyprus', 'Iraq', 'Saint Lucia', 'Senegal',\n",
              "       'Libya', 'Gabon', 'Thailand', 'Congo', 'Tanzania', 'Grenada',\n",
              "       'Guinea', 'Central African Republic', 'Cameroon', 'Algeria',\n",
              "       'Kuwait', 'Ivory Coast', 'Lautoka', 'Liberia', 'Malaysia',\n",
              "       'Jordan', 'Zambia', 'Saint Vincent and the Grenadines', 'Bermuda',\n",
              "       'Niger', 'Malawi', 'DR Congo', 'Upper Volta', 'Chinese Taipei',\n",
              "       'Guyana', 'Mauritania', 'Rhodesia', 'Saudi Arabia', 'Eswatini',\n",
              "       'Mozambique', 'Papua New Guinea', 'Bahrain', 'Lesotho', 'Somalia',\n",
              "       'Zaïre', 'Sri Lanka', 'Antigua and Barbuda', 'Faroe Islands',\n",
              "       'Qatar', 'Yemen DPR', 'Burundi', 'Guam', 'Chad', 'Angola',\n",
              "       'Dominican Republic', 'Seychelles', 'São Tomé and Príncipe',\n",
              "       'Botswana', 'Benin', 'Rwanda', 'Bangladesh',\n",
              "       'United Arab Emirates', 'Zimbabwe', 'Oman', 'Equatorial Guinea',\n",
              "       'Cape Verde', 'Liechtenstein', 'Nepal', 'Greenland', 'Vanuatu',\n",
              "       'Western Samoa', 'Belize', 'Brunei', 'Djibouti', 'Burkina Faso',\n",
              "       'Yemen AR', 'Anguilla', 'Nicaragua', 'Cayman Islands', 'Monaco',\n",
              "       'Solomon Islands', 'Sint Maarten', 'Namibia', 'Saint Martin',\n",
              "       'San Marino', 'Slovenia', 'Moldova', 'Ukraine', 'Kazakhstan',\n",
              "       'Tajikistan', 'Uzbekistan', 'Turkmenistan', 'Georgia',\n",
              "       'Kyrgyzstan', 'Armenia', 'Belarus', 'Guernsey', 'Azerbaijan',\n",
              "       'North Macedonia', 'Jersey', 'Montserrat', 'Gibraltar',\n",
              "       'Bosnia and Herzegovina', 'Tonga', 'Andorra', 'Yemen',\n",
              "       'U.S. Virgin Islands', 'Palau', 'Cook Islands',\n",
              "       'British Virgin Islands', 'Eritrea', 'Bahamas', 'Micronesia',\n",
              "       'Maldives', 'Laos', 'Isle of Man', 'Samoa', 'Bhutan',\n",
              "       'Serbia and Montenegro', 'Mayotte', 'Mongolia', 'Northern Cyprus',\n",
              "       'Serbia', 'Montenegro', 'Northern Mariana Islands', 'Comoros',\n",
              "       'Turks and Caicos Islands', 'South Sudan', 'Kosovo', 'East Timor',\n",
              "       'Tahiti', 'Myanmar'], dtype=object)"
            ]
          },
          "metadata": {},
          "execution_count": 14
        }
      ]
    },
    {
      "cell_type": "code",
      "metadata": {
        "id": "VZGM_I8PMEbm"
      },
      "source": [
        "#Ensuring that country names appear similarly in both datasets\n",
        "results =  results.replace({'Germany DR': 'Germany'})\n",
        "ranking = ranking.replace({\"IR Iran\": \"Iran\"})"
      ],
      "execution_count": 15,
      "outputs": []
    },
    {
      "cell_type": "code",
      "metadata": {
        "colab": {
          "base_uri": "https://localhost:8080/",
          "height": 112
        },
        "id": "qrpsL4BjMEPX",
        "outputId": "b0dbce35-e0e6-470c-f827-4a39d70477ff"
      },
      "source": [
        "#Droppping columns\n",
        "rankings = ranking.loc[:,['rank', 'country_full', 'country_abrv', 'cur_year_avg_weighted',\n",
        "                          'rank_date','two_year_ago_weighted', 'three_year_ago_weighted']] \n",
        "rankings.head(2) "
      ],
      "execution_count": 16,
      "outputs": [
        {
          "output_type": "execute_result",
          "data": {
            "text/html": [
              "<div>\n",
              "<style scoped>\n",
              "    .dataframe tbody tr th:only-of-type {\n",
              "        vertical-align: middle;\n",
              "    }\n",
              "\n",
              "    .dataframe tbody tr th {\n",
              "        vertical-align: top;\n",
              "    }\n",
              "\n",
              "    .dataframe thead th {\n",
              "        text-align: right;\n",
              "    }\n",
              "</style>\n",
              "<table border=\"1\" class=\"dataframe\">\n",
              "  <thead>\n",
              "    <tr style=\"text-align: right;\">\n",
              "      <th></th>\n",
              "      <th>rank</th>\n",
              "      <th>country_full</th>\n",
              "      <th>country_abrv</th>\n",
              "      <th>cur_year_avg_weighted</th>\n",
              "      <th>rank_date</th>\n",
              "      <th>two_year_ago_weighted</th>\n",
              "      <th>three_year_ago_weighted</th>\n",
              "    </tr>\n",
              "  </thead>\n",
              "  <tbody>\n",
              "    <tr>\n",
              "      <th>0</th>\n",
              "      <td>1</td>\n",
              "      <td>Germany</td>\n",
              "      <td>GER</td>\n",
              "      <td>0.0</td>\n",
              "      <td>1993-08-08</td>\n",
              "      <td>0.0</td>\n",
              "      <td>0.0</td>\n",
              "    </tr>\n",
              "    <tr>\n",
              "      <th>1</th>\n",
              "      <td>2</td>\n",
              "      <td>Italy</td>\n",
              "      <td>ITA</td>\n",
              "      <td>0.0</td>\n",
              "      <td>1993-08-08</td>\n",
              "      <td>0.0</td>\n",
              "      <td>0.0</td>\n",
              "    </tr>\n",
              "  </tbody>\n",
              "</table>\n",
              "</div>"
            ],
            "text/plain": [
              "   rank country_full  ... two_year_ago_weighted  three_year_ago_weighted\n",
              "0     1      Germany  ...                   0.0                      0.0\n",
              "1     2        Italy  ...                   0.0                      0.0\n",
              "\n",
              "[2 rows x 7 columns]"
            ]
          },
          "metadata": {},
          "execution_count": 16
        }
      ]
    },
    {
      "cell_type": "code",
      "metadata": {
        "colab": {
          "base_uri": "https://localhost:8080/",
          "height": 166
        },
        "id": "YrkaCyEHO9N_",
        "outputId": "30c35bf9-d90a-4787-8830-7a2a59ed4d08"
      },
      "source": [
        "#Calculating the weighted points\n",
        "rankings['weighted_points'] =  rankings['cur_year_avg_weighted'] + rankings['two_year_ago_weighted'] + rankings['three_year_ago_weighted']\n",
        "rankings.head(2)"
      ],
      "execution_count": 17,
      "outputs": [
        {
          "output_type": "execute_result",
          "data": {
            "text/html": [
              "<div>\n",
              "<style scoped>\n",
              "    .dataframe tbody tr th:only-of-type {\n",
              "        vertical-align: middle;\n",
              "    }\n",
              "\n",
              "    .dataframe tbody tr th {\n",
              "        vertical-align: top;\n",
              "    }\n",
              "\n",
              "    .dataframe thead th {\n",
              "        text-align: right;\n",
              "    }\n",
              "</style>\n",
              "<table border=\"1\" class=\"dataframe\">\n",
              "  <thead>\n",
              "    <tr style=\"text-align: right;\">\n",
              "      <th></th>\n",
              "      <th>rank</th>\n",
              "      <th>country_full</th>\n",
              "      <th>country_abrv</th>\n",
              "      <th>cur_year_avg_weighted</th>\n",
              "      <th>rank_date</th>\n",
              "      <th>two_year_ago_weighted</th>\n",
              "      <th>three_year_ago_weighted</th>\n",
              "      <th>weighted_points</th>\n",
              "    </tr>\n",
              "  </thead>\n",
              "  <tbody>\n",
              "    <tr>\n",
              "      <th>0</th>\n",
              "      <td>1</td>\n",
              "      <td>Germany</td>\n",
              "      <td>GER</td>\n",
              "      <td>0.0</td>\n",
              "      <td>1993-08-08</td>\n",
              "      <td>0.0</td>\n",
              "      <td>0.0</td>\n",
              "      <td>0.0</td>\n",
              "    </tr>\n",
              "    <tr>\n",
              "      <th>1</th>\n",
              "      <td>2</td>\n",
              "      <td>Italy</td>\n",
              "      <td>ITA</td>\n",
              "      <td>0.0</td>\n",
              "      <td>1993-08-08</td>\n",
              "      <td>0.0</td>\n",
              "      <td>0.0</td>\n",
              "      <td>0.0</td>\n",
              "    </tr>\n",
              "  </tbody>\n",
              "</table>\n",
              "</div>"
            ],
            "text/plain": [
              "   rank country_full  ... three_year_ago_weighted  weighted_points\n",
              "0     1      Germany  ...                     0.0              0.0\n",
              "1     2        Italy  ...                     0.0              0.0\n",
              "\n",
              "[2 rows x 8 columns]"
            ]
          },
          "metadata": {},
          "execution_count": 17
        }
      ]
    },
    {
      "cell_type": "markdown",
      "metadata": {
        "id": "feunvz_0PvW8"
      },
      "source": [
        "Rankings points on the fifa ranking dataset started from 21/09/2011, we will threfore use data from 21/09/2011 onwards for this analysis"
      ]
    },
    {
      "cell_type": "code",
      "metadata": {
        "colab": {
          "base_uri": "https://localhost:8080/"
        },
        "id": "nvoiKITDPxNY",
        "outputId": "624f725b-15ce-4052-f026-63101a29a9ef"
      },
      "source": [
        "rankings_df = rankings[rankings['rank_date'] > '2011-08-24']\n",
        "results_df = results[results['date'] > '2011-08-24']\n",
        "print(\"Shape of rankings_df: \", rankings_df.shape)\n",
        "print(\"Shape of results_df: \", results_df.shape)"
      ],
      "execution_count": 18,
      "outputs": [
        {
          "output_type": "stream",
          "name": "stdout",
          "text": [
            "Shape of rankings_df:  (17208, 8)\n",
            "Shape of results_df:  (7558, 9)\n"
          ]
        }
      ]
    },
    {
      "cell_type": "code",
      "metadata": {
        "colab": {
          "base_uri": "https://localhost:8080/",
          "height": 312
        },
        "id": "wij4pFWwP0vO",
        "outputId": "4a53d7c4-b084-4bad-e1ab-b2cbf99d6dc3"
      },
      "source": [
        "#Now we change the columns containing dates to year\n",
        "import datetime\n",
        "\n",
        "rankings_df['year'] = rankings_df['rank_date'].dt.year\n",
        "rankings_df.tail()"
      ],
      "execution_count": 19,
      "outputs": [
        {
          "output_type": "execute_result",
          "data": {
            "text/html": [
              "<div>\n",
              "<style scoped>\n",
              "    .dataframe tbody tr th:only-of-type {\n",
              "        vertical-align: middle;\n",
              "    }\n",
              "\n",
              "    .dataframe tbody tr th {\n",
              "        vertical-align: top;\n",
              "    }\n",
              "\n",
              "    .dataframe thead th {\n",
              "        text-align: right;\n",
              "    }\n",
              "</style>\n",
              "<table border=\"1\" class=\"dataframe\">\n",
              "  <thead>\n",
              "    <tr style=\"text-align: right;\">\n",
              "      <th></th>\n",
              "      <th>rank</th>\n",
              "      <th>country_full</th>\n",
              "      <th>country_abrv</th>\n",
              "      <th>cur_year_avg_weighted</th>\n",
              "      <th>rank_date</th>\n",
              "      <th>two_year_ago_weighted</th>\n",
              "      <th>three_year_ago_weighted</th>\n",
              "      <th>weighted_points</th>\n",
              "      <th>year</th>\n",
              "    </tr>\n",
              "  </thead>\n",
              "  <tbody>\n",
              "    <tr>\n",
              "      <th>57788</th>\n",
              "      <td>206</td>\n",
              "      <td>Anguilla</td>\n",
              "      <td>AIA</td>\n",
              "      <td>0.0</td>\n",
              "      <td>2018-06-07</td>\n",
              "      <td>0.0</td>\n",
              "      <td>0.0</td>\n",
              "      <td>0.0</td>\n",
              "      <td>2018</td>\n",
              "    </tr>\n",
              "    <tr>\n",
              "      <th>57789</th>\n",
              "      <td>206</td>\n",
              "      <td>Bahamas</td>\n",
              "      <td>BAH</td>\n",
              "      <td>0.0</td>\n",
              "      <td>2018-06-07</td>\n",
              "      <td>0.0</td>\n",
              "      <td>0.0</td>\n",
              "      <td>0.0</td>\n",
              "      <td>2018</td>\n",
              "    </tr>\n",
              "    <tr>\n",
              "      <th>57790</th>\n",
              "      <td>206</td>\n",
              "      <td>Eritrea</td>\n",
              "      <td>ERI</td>\n",
              "      <td>0.0</td>\n",
              "      <td>2018-06-07</td>\n",
              "      <td>0.0</td>\n",
              "      <td>0.0</td>\n",
              "      <td>0.0</td>\n",
              "      <td>2018</td>\n",
              "    </tr>\n",
              "    <tr>\n",
              "      <th>57791</th>\n",
              "      <td>206</td>\n",
              "      <td>Somalia</td>\n",
              "      <td>SOM</td>\n",
              "      <td>0.0</td>\n",
              "      <td>2018-06-07</td>\n",
              "      <td>0.0</td>\n",
              "      <td>0.0</td>\n",
              "      <td>0.0</td>\n",
              "      <td>2018</td>\n",
              "    </tr>\n",
              "    <tr>\n",
              "      <th>57792</th>\n",
              "      <td>206</td>\n",
              "      <td>Tonga</td>\n",
              "      <td>TGA</td>\n",
              "      <td>0.0</td>\n",
              "      <td>2018-06-07</td>\n",
              "      <td>0.0</td>\n",
              "      <td>0.0</td>\n",
              "      <td>0.0</td>\n",
              "      <td>2018</td>\n",
              "    </tr>\n",
              "  </tbody>\n",
              "</table>\n",
              "</div>"
            ],
            "text/plain": [
              "       rank country_full  ... weighted_points  year\n",
              "57788   206     Anguilla  ...             0.0  2018\n",
              "57789   206      Bahamas  ...             0.0  2018\n",
              "57790   206      Eritrea  ...             0.0  2018\n",
              "57791   206      Somalia  ...             0.0  2018\n",
              "57792   206        Tonga  ...             0.0  2018\n",
              "\n",
              "[5 rows x 9 columns]"
            ]
          },
          "metadata": {},
          "execution_count": 19
        }
      ]
    },
    {
      "cell_type": "code",
      "metadata": {
        "colab": {
          "base_uri": "https://localhost:8080/",
          "height": 292
        },
        "id": "JZsV9M3nP44x",
        "outputId": "f12e4828-f38e-406f-e206-9c99f82d7e28"
      },
      "source": [
        "results_df['year'] = results_df['date'].dt.year\n",
        "results_df.head()"
      ],
      "execution_count": 20,
      "outputs": [
        {
          "output_type": "execute_result",
          "data": {
            "text/html": [
              "<div>\n",
              "<style scoped>\n",
              "    .dataframe tbody tr th:only-of-type {\n",
              "        vertical-align: middle;\n",
              "    }\n",
              "\n",
              "    .dataframe tbody tr th {\n",
              "        vertical-align: top;\n",
              "    }\n",
              "\n",
              "    .dataframe thead th {\n",
              "        text-align: right;\n",
              "    }\n",
              "</style>\n",
              "<table border=\"1\" class=\"dataframe\">\n",
              "  <thead>\n",
              "    <tr style=\"text-align: right;\">\n",
              "      <th></th>\n",
              "      <th>date</th>\n",
              "      <th>home_team</th>\n",
              "      <th>away_team</th>\n",
              "      <th>home_score</th>\n",
              "      <th>away_score</th>\n",
              "      <th>tournament</th>\n",
              "      <th>city</th>\n",
              "      <th>country</th>\n",
              "      <th>neutral</th>\n",
              "      <th>year</th>\n",
              "    </tr>\n",
              "  </thead>\n",
              "  <tbody>\n",
              "    <tr>\n",
              "      <th>33281</th>\n",
              "      <td>2011-08-25</td>\n",
              "      <td>United Arab Emirates</td>\n",
              "      <td>Qatar</td>\n",
              "      <td>3</td>\n",
              "      <td>1</td>\n",
              "      <td>Friendly</td>\n",
              "      <td>al-Ain</td>\n",
              "      <td>United Arab Emirates</td>\n",
              "      <td>False</td>\n",
              "      <td>2011</td>\n",
              "    </tr>\n",
              "    <tr>\n",
              "      <th>33282</th>\n",
              "      <td>2011-08-26</td>\n",
              "      <td>Bahrain</td>\n",
              "      <td>Sudan</td>\n",
              "      <td>1</td>\n",
              "      <td>0</td>\n",
              "      <td>Friendly</td>\n",
              "      <td>Riffa</td>\n",
              "      <td>Bahrain</td>\n",
              "      <td>False</td>\n",
              "      <td>2011</td>\n",
              "    </tr>\n",
              "    <tr>\n",
              "      <th>33283</th>\n",
              "      <td>2011-08-27</td>\n",
              "      <td>Angola</td>\n",
              "      <td>DR Congo</td>\n",
              "      <td>1</td>\n",
              "      <td>2</td>\n",
              "      <td>Friendly</td>\n",
              "      <td>Dundo</td>\n",
              "      <td>Angola</td>\n",
              "      <td>False</td>\n",
              "      <td>2011</td>\n",
              "    </tr>\n",
              "    <tr>\n",
              "      <th>33284</th>\n",
              "      <td>2011-08-27</td>\n",
              "      <td>Fiji</td>\n",
              "      <td>Tahiti</td>\n",
              "      <td>3</td>\n",
              "      <td>0</td>\n",
              "      <td>Pacific Games</td>\n",
              "      <td>Boulari</td>\n",
              "      <td>New Caledonia</td>\n",
              "      <td>True</td>\n",
              "      <td>2011</td>\n",
              "    </tr>\n",
              "    <tr>\n",
              "      <th>33285</th>\n",
              "      <td>2011-08-27</td>\n",
              "      <td>Jordan</td>\n",
              "      <td>Indonesia</td>\n",
              "      <td>1</td>\n",
              "      <td>0</td>\n",
              "      <td>Friendly</td>\n",
              "      <td>Amman</td>\n",
              "      <td>Jordan</td>\n",
              "      <td>False</td>\n",
              "      <td>2011</td>\n",
              "    </tr>\n",
              "  </tbody>\n",
              "</table>\n",
              "</div>"
            ],
            "text/plain": [
              "            date             home_team  ... neutral  year\n",
              "33281 2011-08-25  United Arab Emirates  ...   False  2011\n",
              "33282 2011-08-26               Bahrain  ...   False  2011\n",
              "33283 2011-08-27                Angola  ...   False  2011\n",
              "33284 2011-08-27                  Fiji  ...    True  2011\n",
              "33285 2011-08-27                Jordan  ...   False  2011\n",
              "\n",
              "[5 rows x 10 columns]"
            ]
          },
          "metadata": {},
          "execution_count": 20
        }
      ]
    },
    {
      "cell_type": "markdown",
      "metadata": {
        "id": "2qLQGRU_cy38"
      },
      "source": [
        "The rankings_df runs from the year 2011 to the year 2018 whereas the results_df runs to the year 2019. For data balance we will remove data for the year 2019 in the results_df"
      ]
    },
    {
      "cell_type": "code",
      "metadata": {
        "colab": {
          "base_uri": "https://localhost:8080/"
        },
        "id": "MuaeV8S3X81D",
        "outputId": "cc21beb5-7e83-4a37-b8b9-cd237d260e61"
      },
      "source": [
        "results_df.info()"
      ],
      "execution_count": 21,
      "outputs": [
        {
          "output_type": "stream",
          "name": "stdout",
          "text": [
            "<class 'pandas.core.frame.DataFrame'>\n",
            "Int64Index: 7558 entries, 33281 to 40838\n",
            "Data columns (total 10 columns):\n",
            " #   Column      Non-Null Count  Dtype         \n",
            "---  ------      --------------  -----         \n",
            " 0   date        7558 non-null   datetime64[ns]\n",
            " 1   home_team   7558 non-null   object        \n",
            " 2   away_team   7558 non-null   object        \n",
            " 3   home_score  7558 non-null   int64         \n",
            " 4   away_score  7558 non-null   int64         \n",
            " 5   tournament  7558 non-null   object        \n",
            " 6   city        7558 non-null   object        \n",
            " 7   country     7558 non-null   object        \n",
            " 8   neutral     7558 non-null   bool          \n",
            " 9   year        7558 non-null   int64         \n",
            "dtypes: bool(1), datetime64[ns](1), int64(3), object(5)\n",
            "memory usage: 597.8+ KB\n"
          ]
        }
      ]
    },
    {
      "cell_type": "code",
      "metadata": {
        "colab": {
          "base_uri": "https://localhost:8080/",
          "height": 292
        },
        "id": "zd4mQaZ0dLsr",
        "outputId": "ee2dc5bc-19a9-4313-ab05-5a3582d510ad"
      },
      "source": [
        "#Standardizing the dataset\n",
        "results_df = results_df[results_df['year'] < 2019]\n",
        "results_df.tail()\n"
      ],
      "execution_count": 22,
      "outputs": [
        {
          "output_type": "execute_result",
          "data": {
            "text/html": [
              "<div>\n",
              "<style scoped>\n",
              "    .dataframe tbody tr th:only-of-type {\n",
              "        vertical-align: middle;\n",
              "    }\n",
              "\n",
              "    .dataframe tbody tr th {\n",
              "        vertical-align: top;\n",
              "    }\n",
              "\n",
              "    .dataframe thead th {\n",
              "        text-align: right;\n",
              "    }\n",
              "</style>\n",
              "<table border=\"1\" class=\"dataframe\">\n",
              "  <thead>\n",
              "    <tr style=\"text-align: right;\">\n",
              "      <th></th>\n",
              "      <th>date</th>\n",
              "      <th>home_team</th>\n",
              "      <th>away_team</th>\n",
              "      <th>home_score</th>\n",
              "      <th>away_score</th>\n",
              "      <th>tournament</th>\n",
              "      <th>city</th>\n",
              "      <th>country</th>\n",
              "      <th>neutral</th>\n",
              "      <th>year</th>\n",
              "    </tr>\n",
              "  </thead>\n",
              "  <tbody>\n",
              "    <tr>\n",
              "      <th>40346</th>\n",
              "      <td>2018-12-30</td>\n",
              "      <td>Yemen</td>\n",
              "      <td>Syria</td>\n",
              "      <td>0</td>\n",
              "      <td>1</td>\n",
              "      <td>Friendly</td>\n",
              "      <td>Abu Dhabi</td>\n",
              "      <td>United Arab Emirates</td>\n",
              "      <td>True</td>\n",
              "      <td>2018</td>\n",
              "    </tr>\n",
              "    <tr>\n",
              "      <th>40347</th>\n",
              "      <td>2018-12-31</td>\n",
              "      <td>South Korea</td>\n",
              "      <td>Saudi Arabia</td>\n",
              "      <td>0</td>\n",
              "      <td>0</td>\n",
              "      <td>Friendly</td>\n",
              "      <td>Abu Dhabi</td>\n",
              "      <td>United Arab Emirates</td>\n",
              "      <td>True</td>\n",
              "      <td>2018</td>\n",
              "    </tr>\n",
              "    <tr>\n",
              "      <th>40348</th>\n",
              "      <td>2018-12-31</td>\n",
              "      <td>Kyrgyzstan</td>\n",
              "      <td>Palestine</td>\n",
              "      <td>2</td>\n",
              "      <td>1</td>\n",
              "      <td>Friendly</td>\n",
              "      <td>Doha</td>\n",
              "      <td>Qatar</td>\n",
              "      <td>True</td>\n",
              "      <td>2018</td>\n",
              "    </tr>\n",
              "    <tr>\n",
              "      <th>40349</th>\n",
              "      <td>2018-12-31</td>\n",
              "      <td>Philippines</td>\n",
              "      <td>Vietnam</td>\n",
              "      <td>2</td>\n",
              "      <td>4</td>\n",
              "      <td>Friendly</td>\n",
              "      <td>Doha</td>\n",
              "      <td>Qatar</td>\n",
              "      <td>True</td>\n",
              "      <td>2018</td>\n",
              "    </tr>\n",
              "    <tr>\n",
              "      <th>40350</th>\n",
              "      <td>2018-12-31</td>\n",
              "      <td>Qatar</td>\n",
              "      <td>Iran</td>\n",
              "      <td>1</td>\n",
              "      <td>2</td>\n",
              "      <td>Friendly</td>\n",
              "      <td>Doha</td>\n",
              "      <td>Qatar</td>\n",
              "      <td>False</td>\n",
              "      <td>2018</td>\n",
              "    </tr>\n",
              "  </tbody>\n",
              "</table>\n",
              "</div>"
            ],
            "text/plain": [
              "            date    home_team  ... neutral  year\n",
              "40346 2018-12-30        Yemen  ...    True  2018\n",
              "40347 2018-12-31  South Korea  ...    True  2018\n",
              "40348 2018-12-31   Kyrgyzstan  ...    True  2018\n",
              "40349 2018-12-31  Philippines  ...    True  2018\n",
              "40350 2018-12-31        Qatar  ...   False  2018\n",
              "\n",
              "[5 rows x 10 columns]"
            ]
          },
          "metadata": {},
          "execution_count": 22
        }
      ]
    },
    {
      "cell_type": "code",
      "metadata": {
        "colab": {
          "base_uri": "https://localhost:8080/",
          "height": 205
        },
        "id": "rrGcpq7idM52",
        "outputId": "553e10dd-f9db-4519-ceab-0adddb388f3e"
      },
      "source": [
        "#Dropping unnecessary columns\n",
        "rankings_data = rankings_df[['rank', 'country_full', 'weighted_points', 'year']]\n",
        "rankings_data = rankings_data.groupby(['year', 'country_full'], as_index=False).agg({'rank': 'mean', 'weighted_points': 'mean'})\n",
        "rankings_data.head()"
      ],
      "execution_count": 24,
      "outputs": [
        {
          "output_type": "execute_result",
          "data": {
            "text/html": [
              "<div>\n",
              "<style scoped>\n",
              "    .dataframe tbody tr th:only-of-type {\n",
              "        vertical-align: middle;\n",
              "    }\n",
              "\n",
              "    .dataframe tbody tr th {\n",
              "        vertical-align: top;\n",
              "    }\n",
              "\n",
              "    .dataframe thead th {\n",
              "        text-align: right;\n",
              "    }\n",
              "</style>\n",
              "<table border=\"1\" class=\"dataframe\">\n",
              "  <thead>\n",
              "    <tr style=\"text-align: right;\">\n",
              "      <th></th>\n",
              "      <th>year</th>\n",
              "      <th>country_full</th>\n",
              "      <th>rank</th>\n",
              "      <th>weighted_points</th>\n",
              "    </tr>\n",
              "  </thead>\n",
              "  <tbody>\n",
              "    <tr>\n",
              "      <th>0</th>\n",
              "      <td>2011</td>\n",
              "      <td>Afghanistan</td>\n",
              "      <td>180.50</td>\n",
              "      <td>75.3975</td>\n",
              "    </tr>\n",
              "    <tr>\n",
              "      <th>1</th>\n",
              "      <td>2011</td>\n",
              "      <td>Albania</td>\n",
              "      <td>72.75</td>\n",
              "      <td>302.0700</td>\n",
              "    </tr>\n",
              "    <tr>\n",
              "      <th>2</th>\n",
              "      <td>2011</td>\n",
              "      <td>Algeria</td>\n",
              "      <td>35.25</td>\n",
              "      <td>557.0125</td>\n",
              "    </tr>\n",
              "    <tr>\n",
              "      <th>3</th>\n",
              "      <td>2011</td>\n",
              "      <td>American Samoa</td>\n",
              "      <td>199.00</td>\n",
              "      <td>15.1775</td>\n",
              "    </tr>\n",
              "    <tr>\n",
              "      <th>4</th>\n",
              "      <td>2011</td>\n",
              "      <td>Andorra</td>\n",
              "      <td>204.00</td>\n",
              "      <td>0.0000</td>\n",
              "    </tr>\n",
              "  </tbody>\n",
              "</table>\n",
              "</div>"
            ],
            "text/plain": [
              "   year    country_full    rank  weighted_points\n",
              "0  2011     Afghanistan  180.50          75.3975\n",
              "1  2011         Albania   72.75         302.0700\n",
              "2  2011         Algeria   35.25         557.0125\n",
              "3  2011  American Samoa  199.00          15.1775\n",
              "4  2011         Andorra  204.00           0.0000"
            ]
          },
          "metadata": {},
          "execution_count": 24
        }
      ]
    },
    {
      "cell_type": "code",
      "metadata": {
        "colab": {
          "base_uri": "https://localhost:8080/"
        },
        "id": "RojJ1v78dThA",
        "outputId": "f2845f42-39b1-446e-ac50-b59c39ca6399"
      },
      "source": [
        "results_df.columns"
      ],
      "execution_count": 25,
      "outputs": [
        {
          "output_type": "execute_result",
          "data": {
            "text/plain": [
              "Index(['date', 'home_team', 'away_team', 'home_score', 'away_score',\n",
              "       'tournament', 'city', 'country', 'neutral', 'year'],\n",
              "      dtype='object')"
            ]
          },
          "metadata": {},
          "execution_count": 25
        }
      ]
    },
    {
      "cell_type": "code",
      "metadata": {
        "colab": {
          "base_uri": "https://localhost:8080/",
          "height": 205
        },
        "id": "8TyB2X_IdYHF",
        "outputId": "03435571-5591-4597-ac07-b06bcd24da97"
      },
      "source": [
        "#Dropping columns for results dataset\n",
        "results_data = results_df[['home_team', 'away_team', 'home_score', 'away_score',\n",
        "       'tournament', 'country', 'year']]\n",
        "results_data.reset_index(drop=True, inplace=False).head()"
      ],
      "execution_count": 26,
      "outputs": [
        {
          "output_type": "execute_result",
          "data": {
            "text/html": [
              "<div>\n",
              "<style scoped>\n",
              "    .dataframe tbody tr th:only-of-type {\n",
              "        vertical-align: middle;\n",
              "    }\n",
              "\n",
              "    .dataframe tbody tr th {\n",
              "        vertical-align: top;\n",
              "    }\n",
              "\n",
              "    .dataframe thead th {\n",
              "        text-align: right;\n",
              "    }\n",
              "</style>\n",
              "<table border=\"1\" class=\"dataframe\">\n",
              "  <thead>\n",
              "    <tr style=\"text-align: right;\">\n",
              "      <th></th>\n",
              "      <th>home_team</th>\n",
              "      <th>away_team</th>\n",
              "      <th>home_score</th>\n",
              "      <th>away_score</th>\n",
              "      <th>tournament</th>\n",
              "      <th>country</th>\n",
              "      <th>year</th>\n",
              "    </tr>\n",
              "  </thead>\n",
              "  <tbody>\n",
              "    <tr>\n",
              "      <th>0</th>\n",
              "      <td>United Arab Emirates</td>\n",
              "      <td>Qatar</td>\n",
              "      <td>3</td>\n",
              "      <td>1</td>\n",
              "      <td>Friendly</td>\n",
              "      <td>United Arab Emirates</td>\n",
              "      <td>2011</td>\n",
              "    </tr>\n",
              "    <tr>\n",
              "      <th>1</th>\n",
              "      <td>Bahrain</td>\n",
              "      <td>Sudan</td>\n",
              "      <td>1</td>\n",
              "      <td>0</td>\n",
              "      <td>Friendly</td>\n",
              "      <td>Bahrain</td>\n",
              "      <td>2011</td>\n",
              "    </tr>\n",
              "    <tr>\n",
              "      <th>2</th>\n",
              "      <td>Angola</td>\n",
              "      <td>DR Congo</td>\n",
              "      <td>1</td>\n",
              "      <td>2</td>\n",
              "      <td>Friendly</td>\n",
              "      <td>Angola</td>\n",
              "      <td>2011</td>\n",
              "    </tr>\n",
              "    <tr>\n",
              "      <th>3</th>\n",
              "      <td>Fiji</td>\n",
              "      <td>Tahiti</td>\n",
              "      <td>3</td>\n",
              "      <td>0</td>\n",
              "      <td>Pacific Games</td>\n",
              "      <td>New Caledonia</td>\n",
              "      <td>2011</td>\n",
              "    </tr>\n",
              "    <tr>\n",
              "      <th>4</th>\n",
              "      <td>Jordan</td>\n",
              "      <td>Indonesia</td>\n",
              "      <td>1</td>\n",
              "      <td>0</td>\n",
              "      <td>Friendly</td>\n",
              "      <td>Jordan</td>\n",
              "      <td>2011</td>\n",
              "    </tr>\n",
              "  </tbody>\n",
              "</table>\n",
              "</div>"
            ],
            "text/plain": [
              "              home_team  away_team  ...               country  year\n",
              "0  United Arab Emirates      Qatar  ...  United Arab Emirates  2011\n",
              "1               Bahrain      Sudan  ...               Bahrain  2011\n",
              "2                Angola   DR Congo  ...                Angola  2011\n",
              "3                  Fiji     Tahiti  ...         New Caledonia  2011\n",
              "4                Jordan  Indonesia  ...                Jordan  2011\n",
              "\n",
              "[5 rows x 7 columns]"
            ]
          },
          "metadata": {},
          "execution_count": 26
        }
      ]
    },
    {
      "cell_type": "code",
      "metadata": {
        "colab": {
          "base_uri": "https://localhost:8080/",
          "height": 275
        },
        "id": "FjLl1AsTddEC",
        "outputId": "e5ec58ed-7167-4d64-e160-0451091a63cb"
      },
      "source": [
        "#Joining both tables to form one dataset\n",
        "data = results_data.merge(rankings_data, left_on=['home_team', 'year'], right_on=['country_full', 'year'], how='inner')\n",
        "data = data.merge(rankings_data, left_on=['away_team', 'year'], right_on=['country_full', 'year'], how='inner')\n",
        "data.drop(['country', 'year', 'country_full_x', 'country_full_y'], axis=1, inplace=True)\n",
        "data.head()"
      ],
      "execution_count": 27,
      "outputs": [
        {
          "output_type": "execute_result",
          "data": {
            "text/html": [
              "<div>\n",
              "<style scoped>\n",
              "    .dataframe tbody tr th:only-of-type {\n",
              "        vertical-align: middle;\n",
              "    }\n",
              "\n",
              "    .dataframe tbody tr th {\n",
              "        vertical-align: top;\n",
              "    }\n",
              "\n",
              "    .dataframe thead th {\n",
              "        text-align: right;\n",
              "    }\n",
              "</style>\n",
              "<table border=\"1\" class=\"dataframe\">\n",
              "  <thead>\n",
              "    <tr style=\"text-align: right;\">\n",
              "      <th></th>\n",
              "      <th>home_team</th>\n",
              "      <th>away_team</th>\n",
              "      <th>home_score</th>\n",
              "      <th>away_score</th>\n",
              "      <th>tournament</th>\n",
              "      <th>rank_x</th>\n",
              "      <th>weighted_points_x</th>\n",
              "      <th>rank_y</th>\n",
              "      <th>weighted_points_y</th>\n",
              "    </tr>\n",
              "  </thead>\n",
              "  <tbody>\n",
              "    <tr>\n",
              "      <th>0</th>\n",
              "      <td>United Arab Emirates</td>\n",
              "      <td>Qatar</td>\n",
              "      <td>3</td>\n",
              "      <td>1</td>\n",
              "      <td>Friendly</td>\n",
              "      <td>118.75</td>\n",
              "      <td>161.6250</td>\n",
              "      <td>95.0</td>\n",
              "      <td>311.495</td>\n",
              "    </tr>\n",
              "    <tr>\n",
              "      <th>1</th>\n",
              "      <td>Bahrain</td>\n",
              "      <td>Qatar</td>\n",
              "      <td>0</td>\n",
              "      <td>0</td>\n",
              "      <td>FIFA World Cup qualification</td>\n",
              "      <td>101.50</td>\n",
              "      <td>282.6375</td>\n",
              "      <td>95.0</td>\n",
              "      <td>311.495</td>\n",
              "    </tr>\n",
              "    <tr>\n",
              "      <th>2</th>\n",
              "      <td>Indonesia</td>\n",
              "      <td>Qatar</td>\n",
              "      <td>2</td>\n",
              "      <td>3</td>\n",
              "      <td>FIFA World Cup qualification</td>\n",
              "      <td>141.25</td>\n",
              "      <td>151.8750</td>\n",
              "      <td>95.0</td>\n",
              "      <td>311.495</td>\n",
              "    </tr>\n",
              "    <tr>\n",
              "      <th>3</th>\n",
              "      <td>United Arab Emirates</td>\n",
              "      <td>Kuwait</td>\n",
              "      <td>2</td>\n",
              "      <td>3</td>\n",
              "      <td>FIFA World Cup qualification</td>\n",
              "      <td>118.75</td>\n",
              "      <td>161.6250</td>\n",
              "      <td>98.5</td>\n",
              "      <td>255.315</td>\n",
              "    </tr>\n",
              "    <tr>\n",
              "      <th>4</th>\n",
              "      <td>Oman</td>\n",
              "      <td>Kuwait</td>\n",
              "      <td>1</td>\n",
              "      <td>0</td>\n",
              "      <td>Friendly</td>\n",
              "      <td>96.50</td>\n",
              "      <td>289.5250</td>\n",
              "      <td>98.5</td>\n",
              "      <td>255.315</td>\n",
              "    </tr>\n",
              "  </tbody>\n",
              "</table>\n",
              "</div>"
            ],
            "text/plain": [
              "              home_team away_team  ...  rank_y  weighted_points_y\n",
              "0  United Arab Emirates     Qatar  ...    95.0            311.495\n",
              "1               Bahrain     Qatar  ...    95.0            311.495\n",
              "2             Indonesia     Qatar  ...    95.0            311.495\n",
              "3  United Arab Emirates    Kuwait  ...    98.5            255.315\n",
              "4                  Oman    Kuwait  ...    98.5            255.315\n",
              "\n",
              "[5 rows x 9 columns]"
            ]
          },
          "metadata": {},
          "execution_count": 27
        }
      ]
    },
    {
      "cell_type": "code",
      "metadata": {
        "colab": {
          "base_uri": "https://localhost:8080/",
          "height": 364
        },
        "id": "lkZr6k9ydhCF",
        "outputId": "76e5ec2b-3f19-4da0-92fd-af2815b8f29d"
      },
      "source": [
        "#Changing column names\n",
        "data.rename(columns={'rank_x':'home_team_rank',\n",
        "                     'rank_y':'away_team_rank',\n",
        "                     'weighted_points_x':'home_team_weighted_points',\n",
        "                     'weighted_points_y':'away_team_weighted_points'}, \n",
        "                 inplace=True)\n",
        " \n",
        "data.head()"
      ],
      "execution_count": 28,
      "outputs": [
        {
          "output_type": "execute_result",
          "data": {
            "text/html": [
              "<div>\n",
              "<style scoped>\n",
              "    .dataframe tbody tr th:only-of-type {\n",
              "        vertical-align: middle;\n",
              "    }\n",
              "\n",
              "    .dataframe tbody tr th {\n",
              "        vertical-align: top;\n",
              "    }\n",
              "\n",
              "    .dataframe thead th {\n",
              "        text-align: right;\n",
              "    }\n",
              "</style>\n",
              "<table border=\"1\" class=\"dataframe\">\n",
              "  <thead>\n",
              "    <tr style=\"text-align: right;\">\n",
              "      <th></th>\n",
              "      <th>home_team</th>\n",
              "      <th>away_team</th>\n",
              "      <th>home_score</th>\n",
              "      <th>away_score</th>\n",
              "      <th>tournament</th>\n",
              "      <th>home_team_rank</th>\n",
              "      <th>home_team_weighted_points</th>\n",
              "      <th>away_team_rank</th>\n",
              "      <th>away_team_weighted_points</th>\n",
              "    </tr>\n",
              "  </thead>\n",
              "  <tbody>\n",
              "    <tr>\n",
              "      <th>0</th>\n",
              "      <td>United Arab Emirates</td>\n",
              "      <td>Qatar</td>\n",
              "      <td>3</td>\n",
              "      <td>1</td>\n",
              "      <td>Friendly</td>\n",
              "      <td>118.75</td>\n",
              "      <td>161.6250</td>\n",
              "      <td>95.0</td>\n",
              "      <td>311.495</td>\n",
              "    </tr>\n",
              "    <tr>\n",
              "      <th>1</th>\n",
              "      <td>Bahrain</td>\n",
              "      <td>Qatar</td>\n",
              "      <td>0</td>\n",
              "      <td>0</td>\n",
              "      <td>FIFA World Cup qualification</td>\n",
              "      <td>101.50</td>\n",
              "      <td>282.6375</td>\n",
              "      <td>95.0</td>\n",
              "      <td>311.495</td>\n",
              "    </tr>\n",
              "    <tr>\n",
              "      <th>2</th>\n",
              "      <td>Indonesia</td>\n",
              "      <td>Qatar</td>\n",
              "      <td>2</td>\n",
              "      <td>3</td>\n",
              "      <td>FIFA World Cup qualification</td>\n",
              "      <td>141.25</td>\n",
              "      <td>151.8750</td>\n",
              "      <td>95.0</td>\n",
              "      <td>311.495</td>\n",
              "    </tr>\n",
              "    <tr>\n",
              "      <th>3</th>\n",
              "      <td>United Arab Emirates</td>\n",
              "      <td>Kuwait</td>\n",
              "      <td>2</td>\n",
              "      <td>3</td>\n",
              "      <td>FIFA World Cup qualification</td>\n",
              "      <td>118.75</td>\n",
              "      <td>161.6250</td>\n",
              "      <td>98.5</td>\n",
              "      <td>255.315</td>\n",
              "    </tr>\n",
              "    <tr>\n",
              "      <th>4</th>\n",
              "      <td>Oman</td>\n",
              "      <td>Kuwait</td>\n",
              "      <td>1</td>\n",
              "      <td>0</td>\n",
              "      <td>Friendly</td>\n",
              "      <td>96.50</td>\n",
              "      <td>289.5250</td>\n",
              "      <td>98.5</td>\n",
              "      <td>255.315</td>\n",
              "    </tr>\n",
              "  </tbody>\n",
              "</table>\n",
              "</div>"
            ],
            "text/plain": [
              "              home_team away_team  ...  away_team_rank  away_team_weighted_points\n",
              "0  United Arab Emirates     Qatar  ...            95.0                    311.495\n",
              "1               Bahrain     Qatar  ...            95.0                    311.495\n",
              "2             Indonesia     Qatar  ...            95.0                    311.495\n",
              "3  United Arab Emirates    Kuwait  ...            98.5                    255.315\n",
              "4                  Oman    Kuwait  ...            98.5                    255.315\n",
              "\n",
              "[5 rows x 9 columns]"
            ]
          },
          "metadata": {},
          "execution_count": 28
        }
      ]
    },
    {
      "cell_type": "code",
      "metadata": {
        "colab": {
          "base_uri": "https://localhost:8080/"
        },
        "id": "soNPDEgAdl06",
        "outputId": "ac4a966e-86bd-49c6-b9a7-1b582af8719a"
      },
      "source": [
        "data.info()"
      ],
      "execution_count": 29,
      "outputs": [
        {
          "output_type": "stream",
          "name": "stdout",
          "text": [
            "<class 'pandas.core.frame.DataFrame'>\n",
            "Int64Index: 5737 entries, 0 to 5736\n",
            "Data columns (total 9 columns):\n",
            " #   Column                     Non-Null Count  Dtype  \n",
            "---  ------                     --------------  -----  \n",
            " 0   home_team                  5737 non-null   object \n",
            " 1   away_team                  5737 non-null   object \n",
            " 2   home_score                 5737 non-null   int64  \n",
            " 3   away_score                 5737 non-null   int64  \n",
            " 4   tournament                 5737 non-null   object \n",
            " 5   home_team_rank             5737 non-null   float64\n",
            " 6   home_team_weighted_points  5737 non-null   float64\n",
            " 7   away_team_rank             5737 non-null   float64\n",
            " 8   away_team_weighted_points  5737 non-null   float64\n",
            "dtypes: float64(4), int64(2), object(3)\n",
            "memory usage: 448.2+ KB\n"
          ]
        }
      ]
    },
    {
      "cell_type": "code",
      "metadata": {
        "id": "pypgQzl4iwXr"
      },
      "source": [
        "#Our merged dataset has no null values and the datatypes are \n",
        "#also appropriate hence no more data cleaning required, we therefore move to EDA"
      ],
      "execution_count": null,
      "outputs": []
    },
    {
      "cell_type": "markdown",
      "metadata": {
        "id": "dxB0iH19j5wH"
      },
      "source": [
        "# 4. EDA"
      ]
    },
    {
      "cell_type": "code",
      "metadata": {
        "colab": {
          "base_uri": "https://localhost:8080/",
          "height": 735
        },
        "id": "BVZEs5ZTj9ei",
        "outputId": "5d236f0c-97f0-49e4-95f2-f3ca8dd26f29"
      },
      "source": [
        "#Checking for data distribution\n",
        "data.hist(bins=10, figsize=[15,10])"
      ],
      "execution_count": 32,
      "outputs": [
        {
          "output_type": "execute_result",
          "data": {
            "text/plain": [
              "array([[<matplotlib.axes._subplots.AxesSubplot object at 0x7f11fde089d0>,\n",
              "        <matplotlib.axes._subplots.AxesSubplot object at 0x7f11fdd96bd0>],\n",
              "       [<matplotlib.axes._subplots.AxesSubplot object at 0x7f11fddb3b90>,\n",
              "        <matplotlib.axes._subplots.AxesSubplot object at 0x7f11fdcff610>],\n",
              "       [<matplotlib.axes._subplots.AxesSubplot object at 0x7f11fdd33b90>,\n",
              "        <matplotlib.axes._subplots.AxesSubplot object at 0x7f11fdcf5150>]],\n",
              "      dtype=object)"
            ]
          },
          "metadata": {},
          "execution_count": 32
        },
        {
          "output_type": "display_data",
          "data": {
            "image/png": "[encoded data removed]",
            "text/plain": [
              "<Figure size 1080x720 with 6 Axes>"
            ]
          },
          "metadata": {
            "needs_background": "light"
          }
        }
      ]
    },
    {
      "cell_type": "code",
      "metadata": {
        "colab": {
          "base_uri": "https://localhost:8080/",
          "height": 283
        },
        "id": "zDqrV9w5i7LK",
        "outputId": "c80694c0-469b-48a7-c343-5af4aea89c3c"
      },
      "source": [
        "#Checking tournament type value counts\n",
        "data.tournament.value_counts().sort_values().head(10).plot(kind = 'barh')\n",
        "#The tournament type ABCS recorded the highest number of matches"
      ],
      "execution_count": 33,
      "outputs": [
        {
          "output_type": "execute_result",
          "data": {
            "text/plain": [
              "<matplotlib.axes._subplots.AxesSubplot at 0x7f11fd9fc790>"
            ]
          },
          "metadata": {},
          "execution_count": 33
        },
        {
          "output_type": "display_data",
          "data": {
            "image/png": "[encoded data removed]",
            "text/plain": [
              "<Figure size 432x288 with 1 Axes>"
            ]
          },
          "metadata": {
            "needs_background": "light"
          }
        }
      ]
    },
    {
      "cell_type": "code",
      "metadata": {
        "colab": {
          "base_uri": "https://localhost:8080/",
          "height": 641
        },
        "id": "6UeodbNFkfEg",
        "outputId": "e581fd55-f0cb-4ad3-f95b-fa6066a8e282"
      },
      "source": [
        "#Checking for feature correlation\n",
        "plt.subplots(figsize=(10,8))\n",
        "sns.heatmap(data.corr(method='pearson'), annot=True)"
      ],
      "execution_count": 36,
      "outputs": [
        {
          "output_type": "execute_result",
          "data": {
            "text/plain": [
              "<matplotlib.axes._subplots.AxesSubplot at 0x7f11fd915f10>"
            ]
          },
          "metadata": {},
          "execution_count": 36
        },
        {
          "output_type": "display_data",
          "data": {
            "image/png": "[encoded data removed]",
            "text/plain": [
              "<Figure size 720x576 with 2 Axes>"
            ]
          },
          "metadata": {
            "needs_background": "light"
          }
        }
      ]
    },
    {
      "cell_type": "code",
      "metadata": {
        "colab": {
          "base_uri": "https://localhost:8080/",
          "height": 387
        },
        "id": "tjULoQoYk0dm",
        "outputId": "dd6e5ef8-2e2f-443d-cdd6-fb2c2d3ad58a"
      },
      "source": [
        "sns.lmplot(x=\"away_team_rank\", y=\"away_team_weighted_points\", data=data)"
      ],
      "execution_count": 38,
      "outputs": [
        {
          "output_type": "execute_result",
          "data": {
            "text/plain": [
              "<seaborn.axisgrid.FacetGrid at 0x7f11f4e5ae90>"
            ]
          },
          "metadata": {},
          "execution_count": 38
        },
        {
          "output_type": "display_data",
          "data": {
            "image/png": "[encoded data removed]",
            "text/plain": [
              "<Figure size 360x360 with 1 Axes>"
            ]
          },
          "metadata": {
            "needs_background": "light"
          }
        }
      ]
    },
    {
      "cell_type": "code",
      "metadata": {
        "colab": {
          "base_uri": "https://localhost:8080/",
          "height": 387
        },
        "id": "MEH3c2lEkkkW",
        "outputId": "54f82736-0ce7-4e31-c414-32debdfe0349"
      },
      "source": [
        "sns.lmplot(x=\"home_team_rank\", y=\"home_team_weighted_points\", data=data)"
      ],
      "execution_count": 37,
      "outputs": [
        {
          "output_type": "execute_result",
          "data": {
            "text/plain": [
              "<seaborn.axisgrid.FacetGrid at 0x7f11f4ef90d0>"
            ]
          },
          "metadata": {},
          "execution_count": 37
        },
        {
          "output_type": "display_data",
          "data": {
            "image/png": "[encoded data removed]",
            "text/plain": [
              "<Figure size 360x360 with 1 Axes>"
            ]
          },
          "metadata": {
            "needs_background": "light"
          }
        }
      ]
    },
    {
      "cell_type": "code",
      "metadata": {
        "id": "Zk_d007HkvrS"
      },
      "source": [
        "#There is a strong negative correlation between rank and weigted points for teams: The teams with very high \n",
        "# weighted points rank high and those with low weighted points rank the least, for \n",
        "# example a team with aweighted points at 1400 ranks first and vice versa\n",
        "\n",
        "# Other features show a weak correlation"
      ],
      "execution_count": null,
      "outputs": []
    },
    {
      "cell_type": "code",
      "metadata": {
        "colab": {
          "base_uri": "https://localhost:8080/",
          "height": 205
        },
        "id": "znTxFyIHmQR5",
        "outputId": "10a5f725-c8f5-4110-cc06-cc67775670a7"
      },
      "source": [
        "home = data[['home_team', 'home_score']].rename(columns={'home_team':'team', 'home_score':'score'})\n",
        "away = data[['away_team', 'away_score']].rename(columns={'away_team':'team', 'away_score':'score'})\n",
        "# merge it into one\n",
        "team_score = home.append(away).reset_index(drop=True)\n",
        "# make an aggregation of the the score column group by the team\n",
        "country_info = team_score.groupby('team')['score'].agg(['sum','count','mean']).reset_index()\n",
        "country_info = country_info.rename(columns={'sum':'nb_goals', 'count':'nb_matches', 'mean':'goal_avg'})\n",
        "del home,away\n",
        "country_info.tail()"
      ],
      "execution_count": 39,
      "outputs": [
        {
          "output_type": "execute_result",
          "data": {
            "text/html": [
              "<div>\n",
              "<style scoped>\n",
              "    .dataframe tbody tr th:only-of-type {\n",
              "        vertical-align: middle;\n",
              "    }\n",
              "\n",
              "    .dataframe tbody tr th {\n",
              "        vertical-align: top;\n",
              "    }\n",
              "\n",
              "    .dataframe thead th {\n",
              "        text-align: right;\n",
              "    }\n",
              "</style>\n",
              "<table border=\"1\" class=\"dataframe\">\n",
              "  <thead>\n",
              "    <tr style=\"text-align: right;\">\n",
              "      <th></th>\n",
              "      <th>team</th>\n",
              "      <th>nb_goals</th>\n",
              "      <th>nb_matches</th>\n",
              "      <th>goal_avg</th>\n",
              "    </tr>\n",
              "  </thead>\n",
              "  <tbody>\n",
              "    <tr>\n",
              "      <th>191</th>\n",
              "      <td>Vietnam</td>\n",
              "      <td>88</td>\n",
              "      <td>55</td>\n",
              "      <td>1.600000</td>\n",
              "    </tr>\n",
              "    <tr>\n",
              "      <th>192</th>\n",
              "      <td>Wales</td>\n",
              "      <td>73</td>\n",
              "      <td>62</td>\n",
              "      <td>1.177419</td>\n",
              "    </tr>\n",
              "    <tr>\n",
              "      <th>193</th>\n",
              "      <td>Yemen</td>\n",
              "      <td>33</td>\n",
              "      <td>56</td>\n",
              "      <td>0.589286</td>\n",
              "    </tr>\n",
              "    <tr>\n",
              "      <th>194</th>\n",
              "      <td>Zambia</td>\n",
              "      <td>123</td>\n",
              "      <td>110</td>\n",
              "      <td>1.118182</td>\n",
              "    </tr>\n",
              "    <tr>\n",
              "      <th>195</th>\n",
              "      <td>Zimbabwe</td>\n",
              "      <td>109</td>\n",
              "      <td>79</td>\n",
              "      <td>1.379747</td>\n",
              "    </tr>\n",
              "  </tbody>\n",
              "</table>\n",
              "</div>"
            ],
            "text/plain": [
              "         team  nb_goals  nb_matches  goal_avg\n",
              "191   Vietnam        88          55  1.600000\n",
              "192     Wales        73          62  1.177419\n",
              "193     Yemen        33          56  0.589286\n",
              "194    Zambia       123         110  1.118182\n",
              "195  Zimbabwe       109          79  1.379747"
            ]
          },
          "metadata": {},
          "execution_count": 39
        }
      ]
    },
    {
      "cell_type": "code",
      "metadata": {
        "colab": {
          "base_uri": "https://localhost:8080/",
          "height": 348
        },
        "id": "IDg8d9Eymcrb",
        "outputId": "bcdb220a-a6c5-4cc4-e776-4b54ad2b79b6"
      },
      "source": [
        "#Top 10 countries by number of goals\n",
        "country_info.nlargest(10,['nb_goals']).sort_values(by='nb_goals').plot(kind='bar',x='team',y='nb_goals')"
      ],
      "execution_count": 40,
      "outputs": [
        {
          "output_type": "execute_result",
          "data": {
            "text/plain": [
              "<matplotlib.axes._subplots.AxesSubplot at 0x7f11f4ddf410>"
            ]
          },
          "metadata": {},
          "execution_count": 40
        },
        {
          "output_type": "display_data",
          "data": {
            "image/png": "[encoded data removed]",
            "text/plain": [
              "<Figure size 432x288 with 1 Axes>"
            ]
          },
          "metadata": {
            "needs_background": "light"
          }
        }
      ]
    },
    {
      "cell_type": "code",
      "metadata": {
        "colab": {
          "base_uri": "https://localhost:8080/",
          "height": 326
        },
        "id": "i7Y-h5ximdvv",
        "outputId": "66965a9a-f398-4d9f-b3c4-c4178ce61479"
      },
      "source": [
        "#Top 10 countries by number of goals\n",
        "country_info.nlargest(10, ['nb_matches']).sort_values(by='nb_matches').plot(kind='bar',x='team',y='nb_matches')"
      ],
      "execution_count": 41,
      "outputs": [
        {
          "output_type": "execute_result",
          "data": {
            "text/plain": [
              "<matplotlib.axes._subplots.AxesSubplot at 0x7f11f4d16d10>"
            ]
          },
          "metadata": {},
          "execution_count": 41
        },
        {
          "output_type": "display_data",
          "data": {
            "image/png": "[encoded data removed]",
            "text/plain": [
              "<Figure size 432x288 with 1 Axes>"
            ]
          },
          "metadata": {
            "needs_background": "light"
          }
        }
      ]
    },
    {
      "cell_type": "markdown",
      "metadata": {
        "id": "tTdmTlhOmoPd"
      },
      "source": [
        "# 5. Feature Engineering"
      ]
    },
    {
      "cell_type": "code",
      "metadata": {
        "colab": {
          "base_uri": "https://localhost:8080/",
          "height": 364
        },
        "id": "0Qxf3G_8mro1",
        "outputId": "8e780412-0c5a-45f4-f539-9178d04a8a3a"
      },
      "source": [
        "#Create a new column 'Status' \n",
        "def f(row):\n",
        "    if row['home_score'] == row['away_score']:\n",
        "        val = 'Draw'\n",
        "    elif row['home_score'] > row['away_score']:\n",
        "        val = 'Win'\n",
        "    else:\n",
        "        val = 'Lose'\n",
        "    return val\n",
        "\n",
        "data['Status'] = data.apply(f, axis=1)\n",
        "\n",
        "data.head()"
      ],
      "execution_count": 42,
      "outputs": [
        {
          "output_type": "execute_result",
          "data": {
            "text/html": [
              "<div>\n",
              "<style scoped>\n",
              "    .dataframe tbody tr th:only-of-type {\n",
              "        vertical-align: middle;\n",
              "    }\n",
              "\n",
              "    .dataframe tbody tr th {\n",
              "        vertical-align: top;\n",
              "    }\n",
              "\n",
              "    .dataframe thead th {\n",
              "        text-align: right;\n",
              "    }\n",
              "</style>\n",
              "<table border=\"1\" class=\"dataframe\">\n",
              "  <thead>\n",
              "    <tr style=\"text-align: right;\">\n",
              "      <th></th>\n",
              "      <th>home_team</th>\n",
              "      <th>away_team</th>\n",
              "      <th>home_score</th>\n",
              "      <th>away_score</th>\n",
              "      <th>tournament</th>\n",
              "      <th>home_team_rank</th>\n",
              "      <th>home_team_weighted_points</th>\n",
              "      <th>away_team_rank</th>\n",
              "      <th>away_team_weighted_points</th>\n",
              "      <th>Status</th>\n",
              "    </tr>\n",
              "  </thead>\n",
              "  <tbody>\n",
              "    <tr>\n",
              "      <th>0</th>\n",
              "      <td>United Arab Emirates</td>\n",
              "      <td>Qatar</td>\n",
              "      <td>3</td>\n",
              "      <td>1</td>\n",
              "      <td>Friendly</td>\n",
              "      <td>118.75</td>\n",
              "      <td>161.6250</td>\n",
              "      <td>95.0</td>\n",
              "      <td>311.495</td>\n",
              "      <td>Win</td>\n",
              "    </tr>\n",
              "    <tr>\n",
              "      <th>1</th>\n",
              "      <td>Bahrain</td>\n",
              "      <td>Qatar</td>\n",
              "      <td>0</td>\n",
              "      <td>0</td>\n",
              "      <td>FIFA World Cup qualification</td>\n",
              "      <td>101.50</td>\n",
              "      <td>282.6375</td>\n",
              "      <td>95.0</td>\n",
              "      <td>311.495</td>\n",
              "      <td>Draw</td>\n",
              "    </tr>\n",
              "    <tr>\n",
              "      <th>2</th>\n",
              "      <td>Indonesia</td>\n",
              "      <td>Qatar</td>\n",
              "      <td>2</td>\n",
              "      <td>3</td>\n",
              "      <td>FIFA World Cup qualification</td>\n",
              "      <td>141.25</td>\n",
              "      <td>151.8750</td>\n",
              "      <td>95.0</td>\n",
              "      <td>311.495</td>\n",
              "      <td>Lose</td>\n",
              "    </tr>\n",
              "    <tr>\n",
              "      <th>3</th>\n",
              "      <td>United Arab Emirates</td>\n",
              "      <td>Kuwait</td>\n",
              "      <td>2</td>\n",
              "      <td>3</td>\n",
              "      <td>FIFA World Cup qualification</td>\n",
              "      <td>118.75</td>\n",
              "      <td>161.6250</td>\n",
              "      <td>98.5</td>\n",
              "      <td>255.315</td>\n",
              "      <td>Lose</td>\n",
              "    </tr>\n",
              "    <tr>\n",
              "      <th>4</th>\n",
              "      <td>Oman</td>\n",
              "      <td>Kuwait</td>\n",
              "      <td>1</td>\n",
              "      <td>0</td>\n",
              "      <td>Friendly</td>\n",
              "      <td>96.50</td>\n",
              "      <td>289.5250</td>\n",
              "      <td>98.5</td>\n",
              "      <td>255.315</td>\n",
              "      <td>Win</td>\n",
              "    </tr>\n",
              "  </tbody>\n",
              "</table>\n",
              "</div>"
            ],
            "text/plain": [
              "              home_team away_team  ...  away_team_weighted_points  Status\n",
              "0  United Arab Emirates     Qatar  ...                    311.495     Win\n",
              "1               Bahrain     Qatar  ...                    311.495    Draw\n",
              "2             Indonesia     Qatar  ...                    311.495    Lose\n",
              "3  United Arab Emirates    Kuwait  ...                    255.315    Lose\n",
              "4                  Oman    Kuwait  ...                    255.315     Win\n",
              "\n",
              "[5 rows x 10 columns]"
            ]
          },
          "metadata": {},
          "execution_count": 42
        }
      ]
    },
    {
      "cell_type": "code",
      "metadata": {
        "colab": {
          "base_uri": "https://localhost:8080/"
        },
        "id": "0Bwgc1Z-m0WT",
        "outputId": "4d8345eb-5bdc-4de5-e987-46ff3b87b2eb"
      },
      "source": [
        "#Change status and tournament to categories\n",
        "data['tournament'] = data['tournament'].astype('category')\n",
        "data['Status'] = data['Status'].astype('category')\n",
        "data.info()"
      ],
      "execution_count": 43,
      "outputs": [
        {
          "output_type": "stream",
          "name": "stdout",
          "text": [
            "<class 'pandas.core.frame.DataFrame'>\n",
            "Int64Index: 5737 entries, 0 to 5736\n",
            "Data columns (total 10 columns):\n",
            " #   Column                     Non-Null Count  Dtype   \n",
            "---  ------                     --------------  -----   \n",
            " 0   home_team                  5737 non-null   object  \n",
            " 1   away_team                  5737 non-null   object  \n",
            " 2   home_score                 5737 non-null   int64   \n",
            " 3   away_score                 5737 non-null   int64   \n",
            " 4   tournament                 5737 non-null   category\n",
            " 5   home_team_rank             5737 non-null   float64 \n",
            " 6   home_team_weighted_points  5737 non-null   float64 \n",
            " 7   away_team_rank             5737 non-null   float64 \n",
            " 8   away_team_weighted_points  5737 non-null   float64 \n",
            " 9   Status                     5737 non-null   category\n",
            "dtypes: category(2), float64(4), int64(2), object(2)\n",
            "memory usage: 416.3+ KB\n"
          ]
        }
      ]
    },
    {
      "cell_type": "code",
      "metadata": {
        "colab": {
          "base_uri": "https://localhost:8080/"
        },
        "id": "9nh0NESmm-xm",
        "outputId": "035f6f93-3b99-4ade-8fa0-b3916b49125d"
      },
      "source": [
        "data['tournament'].unique()"
      ],
      "execution_count": 44,
      "outputs": [
        {
          "output_type": "execute_result",
          "data": {
            "text/plain": [
              "['Friendly', 'FIFA World Cup qualification', 'CECAFA Cup', 'African Cup of Nations qualification', 'Pacific Games', ..., 'Copa América', 'Kirin Cup', 'Copa América qualification', 'UEFA Nations League', 'Intercontinental Cup']\n",
              "Length: 42\n",
              "Categories (42, object): ['Friendly', 'FIFA World Cup qualification', 'CECAFA Cup',\n",
              "                          'African Cup of Nations qualification', ..., 'Kirin Cup', 'Copa América qualification',\n",
              "                          'UEFA Nations League', 'Intercontinental Cup']"
            ]
          },
          "metadata": {},
          "execution_count": 44
        }
      ]
    },
    {
      "cell_type": "code",
      "metadata": {
        "colab": {
          "base_uri": "https://localhost:8080/",
          "height": 382
        },
        "id": "zyRRI8OznEnc",
        "outputId": "6637e292-7fde-4861-ab80-299d8c42651d"
      },
      "source": [
        "from sklearn import preprocessing \n",
        "  \n",
        "label_encoder = preprocessing.LabelEncoder() \n",
        "  \n",
        "# Encode labels in column 'Status'. \n",
        "data['Status']= label_encoder.fit_transform(data['Status']) \n",
        "  \n",
        "print(data['Status'].unique()) \n",
        "data.head()\n",
        "#Where 2:win, 1: lose, 0:Draw"
      ],
      "execution_count": 45,
      "outputs": [
        {
          "output_type": "stream",
          "name": "stdout",
          "text": [
            "[2 0 1]\n"
          ]
        },
        {
          "output_type": "execute_result",
          "data": {
            "text/html": [
              "<div>\n",
              "<style scoped>\n",
              "    .dataframe tbody tr th:only-of-type {\n",
              "        vertical-align: middle;\n",
              "    }\n",
              "\n",
              "    .dataframe tbody tr th {\n",
              "        vertical-align: top;\n",
              "    }\n",
              "\n",
              "    .dataframe thead th {\n",
              "        text-align: right;\n",
              "    }\n",
              "</style>\n",
              "<table border=\"1\" class=\"dataframe\">\n",
              "  <thead>\n",
              "    <tr style=\"text-align: right;\">\n",
              "      <th></th>\n",
              "      <th>home_team</th>\n",
              "      <th>away_team</th>\n",
              "      <th>home_score</th>\n",
              "      <th>away_score</th>\n",
              "      <th>tournament</th>\n",
              "      <th>home_team_rank</th>\n",
              "      <th>home_team_weighted_points</th>\n",
              "      <th>away_team_rank</th>\n",
              "      <th>away_team_weighted_points</th>\n",
              "      <th>Status</th>\n",
              "    </tr>\n",
              "  </thead>\n",
              "  <tbody>\n",
              "    <tr>\n",
              "      <th>0</th>\n",
              "      <td>United Arab Emirates</td>\n",
              "      <td>Qatar</td>\n",
              "      <td>3</td>\n",
              "      <td>1</td>\n",
              "      <td>Friendly</td>\n",
              "      <td>118.75</td>\n",
              "      <td>161.6250</td>\n",
              "      <td>95.0</td>\n",
              "      <td>311.495</td>\n",
              "      <td>2</td>\n",
              "    </tr>\n",
              "    <tr>\n",
              "      <th>1</th>\n",
              "      <td>Bahrain</td>\n",
              "      <td>Qatar</td>\n",
              "      <td>0</td>\n",
              "      <td>0</td>\n",
              "      <td>FIFA World Cup qualification</td>\n",
              "      <td>101.50</td>\n",
              "      <td>282.6375</td>\n",
              "      <td>95.0</td>\n",
              "      <td>311.495</td>\n",
              "      <td>0</td>\n",
              "    </tr>\n",
              "    <tr>\n",
              "      <th>2</th>\n",
              "      <td>Indonesia</td>\n",
              "      <td>Qatar</td>\n",
              "      <td>2</td>\n",
              "      <td>3</td>\n",
              "      <td>FIFA World Cup qualification</td>\n",
              "      <td>141.25</td>\n",
              "      <td>151.8750</td>\n",
              "      <td>95.0</td>\n",
              "      <td>311.495</td>\n",
              "      <td>1</td>\n",
              "    </tr>\n",
              "    <tr>\n",
              "      <th>3</th>\n",
              "      <td>United Arab Emirates</td>\n",
              "      <td>Kuwait</td>\n",
              "      <td>2</td>\n",
              "      <td>3</td>\n",
              "      <td>FIFA World Cup qualification</td>\n",
              "      <td>118.75</td>\n",
              "      <td>161.6250</td>\n",
              "      <td>98.5</td>\n",
              "      <td>255.315</td>\n",
              "      <td>1</td>\n",
              "    </tr>\n",
              "    <tr>\n",
              "      <th>4</th>\n",
              "      <td>Oman</td>\n",
              "      <td>Kuwait</td>\n",
              "      <td>1</td>\n",
              "      <td>0</td>\n",
              "      <td>Friendly</td>\n",
              "      <td>96.50</td>\n",
              "      <td>289.5250</td>\n",
              "      <td>98.5</td>\n",
              "      <td>255.315</td>\n",
              "      <td>2</td>\n",
              "    </tr>\n",
              "  </tbody>\n",
              "</table>\n",
              "</div>"
            ],
            "text/plain": [
              "              home_team away_team  ...  away_team_weighted_points  Status\n",
              "0  United Arab Emirates     Qatar  ...                    311.495       2\n",
              "1               Bahrain     Qatar  ...                    311.495       0\n",
              "2             Indonesia     Qatar  ...                    311.495       1\n",
              "3  United Arab Emirates    Kuwait  ...                    255.315       1\n",
              "4                  Oman    Kuwait  ...                    255.315       2\n",
              "\n",
              "[5 rows x 10 columns]"
            ]
          },
          "metadata": {},
          "execution_count": 45
        }
      ]
    },
    {
      "cell_type": "code",
      "metadata": {
        "colab": {
          "base_uri": "https://localhost:8080/",
          "height": 331
        },
        "id": "0EYxZo8gnP9y",
        "outputId": "4c0edddd-3106-46f6-99d8-4dffe05e4803"
      },
      "source": [
        "# Encode labels in column 'touranament'. \n",
        "data['tournament']= label_encoder.fit_transform(data['tournament']) \n",
        "  \n",
        "print(data['tournament'].unique()) \n",
        "data.head()"
      ],
      "execution_count": 46,
      "outputs": [
        {
          "output_type": "stream",
          "name": "stdout",
          "text": [
            "[22 21 10  7 32 31  0 36 18 33  6 34  8 40 35 17  3  5 19 28 26 39  9 12\n",
            " 11 30 24  2  4 13 14 29 23 38 20 41  1 15 27 16 37 25]\n"
          ]
        },
        {
          "output_type": "execute_result",
          "data": {
            "text/html": [
              "<div>\n",
              "<style scoped>\n",
              "    .dataframe tbody tr th:only-of-type {\n",
              "        vertical-align: middle;\n",
              "    }\n",
              "\n",
              "    .dataframe tbody tr th {\n",
              "        vertical-align: top;\n",
              "    }\n",
              "\n",
              "    .dataframe thead th {\n",
              "        text-align: right;\n",
              "    }\n",
              "</style>\n",
              "<table border=\"1\" class=\"dataframe\">\n",
              "  <thead>\n",
              "    <tr style=\"text-align: right;\">\n",
              "      <th></th>\n",
              "      <th>home_team</th>\n",
              "      <th>away_team</th>\n",
              "      <th>home_score</th>\n",
              "      <th>away_score</th>\n",
              "      <th>tournament</th>\n",
              "      <th>home_team_rank</th>\n",
              "      <th>home_team_weighted_points</th>\n",
              "      <th>away_team_rank</th>\n",
              "      <th>away_team_weighted_points</th>\n",
              "      <th>Status</th>\n",
              "    </tr>\n",
              "  </thead>\n",
              "  <tbody>\n",
              "    <tr>\n",
              "      <th>0</th>\n",
              "      <td>United Arab Emirates</td>\n",
              "      <td>Qatar</td>\n",
              "      <td>3</td>\n",
              "      <td>1</td>\n",
              "      <td>22</td>\n",
              "      <td>118.75</td>\n",
              "      <td>161.6250</td>\n",
              "      <td>95.0</td>\n",
              "      <td>311.495</td>\n",
              "      <td>2</td>\n",
              "    </tr>\n",
              "    <tr>\n",
              "      <th>1</th>\n",
              "      <td>Bahrain</td>\n",
              "      <td>Qatar</td>\n",
              "      <td>0</td>\n",
              "      <td>0</td>\n",
              "      <td>21</td>\n",
              "      <td>101.50</td>\n",
              "      <td>282.6375</td>\n",
              "      <td>95.0</td>\n",
              "      <td>311.495</td>\n",
              "      <td>0</td>\n",
              "    </tr>\n",
              "    <tr>\n",
              "      <th>2</th>\n",
              "      <td>Indonesia</td>\n",
              "      <td>Qatar</td>\n",
              "      <td>2</td>\n",
              "      <td>3</td>\n",
              "      <td>21</td>\n",
              "      <td>141.25</td>\n",
              "      <td>151.8750</td>\n",
              "      <td>95.0</td>\n",
              "      <td>311.495</td>\n",
              "      <td>1</td>\n",
              "    </tr>\n",
              "    <tr>\n",
              "      <th>3</th>\n",
              "      <td>United Arab Emirates</td>\n",
              "      <td>Kuwait</td>\n",
              "      <td>2</td>\n",
              "      <td>3</td>\n",
              "      <td>21</td>\n",
              "      <td>118.75</td>\n",
              "      <td>161.6250</td>\n",
              "      <td>98.5</td>\n",
              "      <td>255.315</td>\n",
              "      <td>1</td>\n",
              "    </tr>\n",
              "    <tr>\n",
              "      <th>4</th>\n",
              "      <td>Oman</td>\n",
              "      <td>Kuwait</td>\n",
              "      <td>1</td>\n",
              "      <td>0</td>\n",
              "      <td>22</td>\n",
              "      <td>96.50</td>\n",
              "      <td>289.5250</td>\n",
              "      <td>98.5</td>\n",
              "      <td>255.315</td>\n",
              "      <td>2</td>\n",
              "    </tr>\n",
              "  </tbody>\n",
              "</table>\n",
              "</div>"
            ],
            "text/plain": [
              "              home_team away_team  ...  away_team_weighted_points  Status\n",
              "0  United Arab Emirates     Qatar  ...                    311.495       2\n",
              "1               Bahrain     Qatar  ...                    311.495       0\n",
              "2             Indonesia     Qatar  ...                    311.495       1\n",
              "3  United Arab Emirates    Kuwait  ...                    255.315       1\n",
              "4                  Oman    Kuwait  ...                    255.315       2\n",
              "\n",
              "[5 rows x 10 columns]"
            ]
          },
          "metadata": {},
          "execution_count": 46
        }
      ]
    },
    {
      "cell_type": "code",
      "metadata": {
        "colab": {
          "base_uri": "https://localhost:8080/"
        },
        "id": "AKqr7JC2n_K8",
        "outputId": "03493286-7b1c-4604-8915-c7a6420c2f24"
      },
      "source": [
        "# For polynomial approach we will use two models:\n",
        "\n",
        "# Model 1: Predict how many goals the home team scores.\n",
        "\n",
        "# Model 2: Predict how many goals the away team scores.\n",
        "\n",
        "# We will separate our data into two to prepare it for modelling using both models\n",
        "\n",
        "data.columns"
      ],
      "execution_count": 47,
      "outputs": [
        {
          "output_type": "execute_result",
          "data": {
            "text/plain": [
              "Index(['home_team', 'away_team', 'home_score', 'away_score', 'tournament',\n",
              "       'home_team_rank', 'home_team_weighted_points', 'away_team_rank',\n",
              "       'away_team_weighted_points', 'Status'],\n",
              "      dtype='object')"
            ]
          },
          "metadata": {},
          "execution_count": 47
        }
      ]
    },
    {
      "cell_type": "code",
      "metadata": {
        "colab": {
          "base_uri": "https://localhost:8080/",
          "height": 205
        },
        "id": "zfeORtxOoHxf",
        "outputId": "bf725667-b16d-4791-991f-55b98cebaf94"
      },
      "source": [
        "home = data[['home_score', 'tournament', 'home_team_rank','away_team_rank', 'home_team_weighted_points']]\n",
        "home.head()"
      ],
      "execution_count": 48,
      "outputs": [
        {
          "output_type": "execute_result",
          "data": {
            "text/html": [
              "<div>\n",
              "<style scoped>\n",
              "    .dataframe tbody tr th:only-of-type {\n",
              "        vertical-align: middle;\n",
              "    }\n",
              "\n",
              "    .dataframe tbody tr th {\n",
              "        vertical-align: top;\n",
              "    }\n",
              "\n",
              "    .dataframe thead th {\n",
              "        text-align: right;\n",
              "    }\n",
              "</style>\n",
              "<table border=\"1\" class=\"dataframe\">\n",
              "  <thead>\n",
              "    <tr style=\"text-align: right;\">\n",
              "      <th></th>\n",
              "      <th>home_score</th>\n",
              "      <th>tournament</th>\n",
              "      <th>home_team_rank</th>\n",
              "      <th>away_team_rank</th>\n",
              "      <th>home_team_weighted_points</th>\n",
              "    </tr>\n",
              "  </thead>\n",
              "  <tbody>\n",
              "    <tr>\n",
              "      <th>0</th>\n",
              "      <td>3</td>\n",
              "      <td>22</td>\n",
              "      <td>118.75</td>\n",
              "      <td>95.0</td>\n",
              "      <td>161.6250</td>\n",
              "    </tr>\n",
              "    <tr>\n",
              "      <th>1</th>\n",
              "      <td>0</td>\n",
              "      <td>21</td>\n",
              "      <td>101.50</td>\n",
              "      <td>95.0</td>\n",
              "      <td>282.6375</td>\n",
              "    </tr>\n",
              "    <tr>\n",
              "      <th>2</th>\n",
              "      <td>2</td>\n",
              "      <td>21</td>\n",
              "      <td>141.25</td>\n",
              "      <td>95.0</td>\n",
              "      <td>151.8750</td>\n",
              "    </tr>\n",
              "    <tr>\n",
              "      <th>3</th>\n",
              "      <td>2</td>\n",
              "      <td>21</td>\n",
              "      <td>118.75</td>\n",
              "      <td>98.5</td>\n",
              "      <td>161.6250</td>\n",
              "    </tr>\n",
              "    <tr>\n",
              "      <th>4</th>\n",
              "      <td>1</td>\n",
              "      <td>22</td>\n",
              "      <td>96.50</td>\n",
              "      <td>98.5</td>\n",
              "      <td>289.5250</td>\n",
              "    </tr>\n",
              "  </tbody>\n",
              "</table>\n",
              "</div>"
            ],
            "text/plain": [
              "   home_score  tournament  ...  away_team_rank  home_team_weighted_points\n",
              "0           3          22  ...            95.0                   161.6250\n",
              "1           0          21  ...            95.0                   282.6375\n",
              "2           2          21  ...            95.0                   151.8750\n",
              "3           2          21  ...            98.5                   161.6250\n",
              "4           1          22  ...            98.5                   289.5250\n",
              "\n",
              "[5 rows x 5 columns]"
            ]
          },
          "metadata": {},
          "execution_count": 48
        }
      ]
    },
    {
      "cell_type": "code",
      "metadata": {
        "colab": {
          "base_uri": "https://localhost:8080/",
          "height": 205
        },
        "id": "49_8WC1do7vr",
        "outputId": "47c959f8-04e2-4e97-89b0-1c72f0ee899c"
      },
      "source": [
        "away =data[['away_score', 'tournament','home_team_rank', 'away_team_rank', 'away_team_weighted_points']]\n",
        "away.head()"
      ],
      "execution_count": 49,
      "outputs": [
        {
          "output_type": "execute_result",
          "data": {
            "text/html": [
              "<div>\n",
              "<style scoped>\n",
              "    .dataframe tbody tr th:only-of-type {\n",
              "        vertical-align: middle;\n",
              "    }\n",
              "\n",
              "    .dataframe tbody tr th {\n",
              "        vertical-align: top;\n",
              "    }\n",
              "\n",
              "    .dataframe thead th {\n",
              "        text-align: right;\n",
              "    }\n",
              "</style>\n",
              "<table border=\"1\" class=\"dataframe\">\n",
              "  <thead>\n",
              "    <tr style=\"text-align: right;\">\n",
              "      <th></th>\n",
              "      <th>away_score</th>\n",
              "      <th>tournament</th>\n",
              "      <th>home_team_rank</th>\n",
              "      <th>away_team_rank</th>\n",
              "      <th>away_team_weighted_points</th>\n",
              "    </tr>\n",
              "  </thead>\n",
              "  <tbody>\n",
              "    <tr>\n",
              "      <th>0</th>\n",
              "      <td>1</td>\n",
              "      <td>22</td>\n",
              "      <td>118.75</td>\n",
              "      <td>95.0</td>\n",
              "      <td>311.495</td>\n",
              "    </tr>\n",
              "    <tr>\n",
              "      <th>1</th>\n",
              "      <td>0</td>\n",
              "      <td>21</td>\n",
              "      <td>101.50</td>\n",
              "      <td>95.0</td>\n",
              "      <td>311.495</td>\n",
              "    </tr>\n",
              "    <tr>\n",
              "      <th>2</th>\n",
              "      <td>3</td>\n",
              "      <td>21</td>\n",
              "      <td>141.25</td>\n",
              "      <td>95.0</td>\n",
              "      <td>311.495</td>\n",
              "    </tr>\n",
              "    <tr>\n",
              "      <th>3</th>\n",
              "      <td>3</td>\n",
              "      <td>21</td>\n",
              "      <td>118.75</td>\n",
              "      <td>98.5</td>\n",
              "      <td>255.315</td>\n",
              "    </tr>\n",
              "    <tr>\n",
              "      <th>4</th>\n",
              "      <td>0</td>\n",
              "      <td>22</td>\n",
              "      <td>96.50</td>\n",
              "      <td>98.5</td>\n",
              "      <td>255.315</td>\n",
              "    </tr>\n",
              "  </tbody>\n",
              "</table>\n",
              "</div>"
            ],
            "text/plain": [
              "   away_score  tournament  ...  away_team_rank  away_team_weighted_points\n",
              "0           1          22  ...            95.0                    311.495\n",
              "1           0          21  ...            95.0                    311.495\n",
              "2           3          21  ...            95.0                    311.495\n",
              "3           3          21  ...            98.5                    255.315\n",
              "4           0          22  ...            98.5                    255.315\n",
              "\n",
              "[5 rows x 5 columns]"
            ]
          },
          "metadata": {},
          "execution_count": 49
        }
      ]
    },
    {
      "cell_type": "markdown",
      "metadata": {
        "id": "0lOR4hD3pBYu"
      },
      "source": [
        "# 6. Multicollinearlity"
      ]
    },
    {
      "cell_type": "code",
      "metadata": {
        "colab": {
          "base_uri": "https://localhost:8080/",
          "height": 175
        },
        "id": "jRWiHPzapAwF",
        "outputId": "39b0c3e0-a702-4adc-805f-c48c1bf43f51"
      },
      "source": [
        "#Drop the target variable\n",
        "ind_home = home.drop(columns=['home_score'])\n",
        "\n",
        "correlations = ind_home.corr()\n",
        "correlations"
      ],
      "execution_count": 51,
      "outputs": [
        {
          "output_type": "execute_result",
          "data": {
            "text/html": [
              "<div>\n",
              "<style scoped>\n",
              "    .dataframe tbody tr th:only-of-type {\n",
              "        vertical-align: middle;\n",
              "    }\n",
              "\n",
              "    .dataframe tbody tr th {\n",
              "        vertical-align: top;\n",
              "    }\n",
              "\n",
              "    .dataframe thead th {\n",
              "        text-align: right;\n",
              "    }\n",
              "</style>\n",
              "<table border=\"1\" class=\"dataframe\">\n",
              "  <thead>\n",
              "    <tr style=\"text-align: right;\">\n",
              "      <th></th>\n",
              "      <th>tournament</th>\n",
              "      <th>home_team_rank</th>\n",
              "      <th>away_team_rank</th>\n",
              "      <th>home_team_weighted_points</th>\n",
              "    </tr>\n",
              "  </thead>\n",
              "  <tbody>\n",
              "    <tr>\n",
              "      <th>tournament</th>\n",
              "      <td>1.000000</td>\n",
              "      <td>-0.184170</td>\n",
              "      <td>-0.183864</td>\n",
              "      <td>0.198956</td>\n",
              "    </tr>\n",
              "    <tr>\n",
              "      <th>home_team_rank</th>\n",
              "      <td>-0.184170</td>\n",
              "      <td>1.000000</td>\n",
              "      <td>0.528137</td>\n",
              "      <td>-0.923834</td>\n",
              "    </tr>\n",
              "    <tr>\n",
              "      <th>away_team_rank</th>\n",
              "      <td>-0.183864</td>\n",
              "      <td>0.528137</td>\n",
              "      <td>1.000000</td>\n",
              "      <td>-0.501706</td>\n",
              "    </tr>\n",
              "    <tr>\n",
              "      <th>home_team_weighted_points</th>\n",
              "      <td>0.198956</td>\n",
              "      <td>-0.923834</td>\n",
              "      <td>-0.501706</td>\n",
              "      <td>1.000000</td>\n",
              "    </tr>\n",
              "  </tbody>\n",
              "</table>\n",
              "</div>"
            ],
            "text/plain": [
              "                           tournament  ...  home_team_weighted_points\n",
              "tournament                   1.000000  ...                   0.198956\n",
              "home_team_rank              -0.184170  ...                  -0.923834\n",
              "away_team_rank              -0.183864  ...                  -0.501706\n",
              "home_team_weighted_points    0.198956  ...                   1.000000\n",
              "\n",
              "[4 rows x 4 columns]"
            ]
          },
          "metadata": {},
          "execution_count": 51
        }
      ]
    },
    {
      "cell_type": "code",
      "metadata": {
        "colab": {
          "base_uri": "https://localhost:8080/",
          "height": 175
        },
        "id": "hIzngnDrpTR7",
        "outputId": "1350a2d0-b5fe-4d58-d512-a62bf50b44a9"
      },
      "source": [
        "#Check for multicollinearlity in the home dataset\n",
        "pd.DataFrame(np.linalg.inv(correlations.values), index = correlations.index, columns=correlations.columns)"
      ],
      "execution_count": 52,
      "outputs": [
        {
          "output_type": "execute_result",
          "data": {
            "text/html": [
              "<div>\n",
              "<style scoped>\n",
              "    .dataframe tbody tr th:only-of-type {\n",
              "        vertical-align: middle;\n",
              "    }\n",
              "\n",
              "    .dataframe tbody tr th {\n",
              "        vertical-align: top;\n",
              "    }\n",
              "\n",
              "    .dataframe thead th {\n",
              "        text-align: right;\n",
              "    }\n",
              "</style>\n",
              "<table border=\"1\" class=\"dataframe\">\n",
              "  <thead>\n",
              "    <tr style=\"text-align: right;\">\n",
              "      <th></th>\n",
              "      <th>tournament</th>\n",
              "      <th>home_team_rank</th>\n",
              "      <th>away_team_rank</th>\n",
              "      <th>home_team_weighted_points</th>\n",
              "    </tr>\n",
              "  </thead>\n",
              "  <tbody>\n",
              "    <tr>\n",
              "      <th>tournament</th>\n",
              "      <td>1.051923</td>\n",
              "      <td>-0.051443</td>\n",
              "      <td>0.122594</td>\n",
              "      <td>-0.195305</td>\n",
              "    </tr>\n",
              "    <tr>\n",
              "      <th>home_team_rank</th>\n",
              "      <td>-0.051443</td>\n",
              "      <td>7.097409</td>\n",
              "      <td>-0.618914</td>\n",
              "      <td>6.256549</td>\n",
              "    </tr>\n",
              "    <tr>\n",
              "      <th>away_team_rank</th>\n",
              "      <td>0.122594</td>\n",
              "      <td>-0.618914</td>\n",
              "      <td>1.403615</td>\n",
              "      <td>0.108038</td>\n",
              "    </tr>\n",
              "    <tr>\n",
              "      <th>home_team_weighted_points</th>\n",
              "      <td>-0.195305</td>\n",
              "      <td>6.256549</td>\n",
              "      <td>0.108038</td>\n",
              "      <td>6.873072</td>\n",
              "    </tr>\n",
              "  </tbody>\n",
              "</table>\n",
              "</div>"
            ],
            "text/plain": [
              "                           tournament  ...  home_team_weighted_points\n",
              "tournament                   1.051923  ...                  -0.195305\n",
              "home_team_rank              -0.051443  ...                   6.256549\n",
              "away_team_rank               0.122594  ...                   0.108038\n",
              "home_team_weighted_points   -0.195305  ...                   6.873072\n",
              "\n",
              "[4 rows x 4 columns]"
            ]
          },
          "metadata": {},
          "execution_count": 52
        }
      ]
    },
    {
      "cell_type": "code",
      "metadata": {
        "colab": {
          "base_uri": "https://localhost:8080/",
          "height": 143
        },
        "id": "igMcSGW-pqpU",
        "outputId": "bb52c04a-e8d7-470f-d51a-597edc5f08eb"
      },
      "source": [
        "#Drop the column for weighted points\n",
        "ind_home = ind_home.drop(columns=['home_team_weighted_points'])\n",
        "correlations = ind_home.corr()\n",
        "pd.DataFrame(np.linalg.inv(correlations.values), index = correlations.index, columns=correlations.columns)\n"
      ],
      "execution_count": 53,
      "outputs": [
        {
          "output_type": "execute_result",
          "data": {
            "text/html": [
              "<div>\n",
              "<style scoped>\n",
              "    .dataframe tbody tr th:only-of-type {\n",
              "        vertical-align: middle;\n",
              "    }\n",
              "\n",
              "    .dataframe tbody tr th {\n",
              "        vertical-align: top;\n",
              "    }\n",
              "\n",
              "    .dataframe thead th {\n",
              "        text-align: right;\n",
              "    }\n",
              "</style>\n",
              "<table border=\"1\" class=\"dataframe\">\n",
              "  <thead>\n",
              "    <tr style=\"text-align: right;\">\n",
              "      <th></th>\n",
              "      <th>tournament</th>\n",
              "      <th>home_team_rank</th>\n",
              "      <th>away_team_rank</th>\n",
              "    </tr>\n",
              "  </thead>\n",
              "  <tbody>\n",
              "    <tr>\n",
              "      <th>tournament</th>\n",
              "      <td>1.046374</td>\n",
              "      <td>0.126343</td>\n",
              "      <td>0.125664</td>\n",
              "    </tr>\n",
              "    <tr>\n",
              "      <th>home_team_rank</th>\n",
              "      <td>0.126343</td>\n",
              "      <td>1.402080</td>\n",
              "      <td>-0.717260</td>\n",
              "    </tr>\n",
              "    <tr>\n",
              "      <th>away_team_rank</th>\n",
              "      <td>0.125664</td>\n",
              "      <td>-0.717260</td>\n",
              "      <td>1.401917</td>\n",
              "    </tr>\n",
              "  </tbody>\n",
              "</table>\n",
              "</div>"
            ],
            "text/plain": [
              "                tournament  home_team_rank  away_team_rank\n",
              "tournament        1.046374        0.126343        0.125664\n",
              "home_team_rank    0.126343        1.402080       -0.717260\n",
              "away_team_rank    0.125664       -0.717260        1.401917"
            ]
          },
          "metadata": {},
          "execution_count": 53
        }
      ]
    },
    {
      "cell_type": "code",
      "metadata": {
        "colab": {
          "base_uri": "https://localhost:8080/",
          "height": 143
        },
        "id": "Uh8iGfGrqoyV",
        "outputId": "90c22002-8c5e-4111-a513-d8cd35aa399d"
      },
      "source": [
        "#Multicollinearlity in the away dataset\n",
        "ind_away = away.drop(columns=['away_score', 'away_team_weighted_points'])\n",
        "correlations = ind_away.corr()\n",
        "pd.DataFrame(np.linalg.inv(correlations.values), index = correlations.index, columns=correlations.columns)\n"
      ],
      "execution_count": 54,
      "outputs": [
        {
          "output_type": "execute_result",
          "data": {
            "text/html": [
              "<div>\n",
              "<style scoped>\n",
              "    .dataframe tbody tr th:only-of-type {\n",
              "        vertical-align: middle;\n",
              "    }\n",
              "\n",
              "    .dataframe tbody tr th {\n",
              "        vertical-align: top;\n",
              "    }\n",
              "\n",
              "    .dataframe thead th {\n",
              "        text-align: right;\n",
              "    }\n",
              "</style>\n",
              "<table border=\"1\" class=\"dataframe\">\n",
              "  <thead>\n",
              "    <tr style=\"text-align: right;\">\n",
              "      <th></th>\n",
              "      <th>tournament</th>\n",
              "      <th>home_team_rank</th>\n",
              "      <th>away_team_rank</th>\n",
              "    </tr>\n",
              "  </thead>\n",
              "  <tbody>\n",
              "    <tr>\n",
              "      <th>tournament</th>\n",
              "      <td>1.046374</td>\n",
              "      <td>0.126343</td>\n",
              "      <td>0.125664</td>\n",
              "    </tr>\n",
              "    <tr>\n",
              "      <th>home_team_rank</th>\n",
              "      <td>0.126343</td>\n",
              "      <td>1.402080</td>\n",
              "      <td>-0.717260</td>\n",
              "    </tr>\n",
              "    <tr>\n",
              "      <th>away_team_rank</th>\n",
              "      <td>0.125664</td>\n",
              "      <td>-0.717260</td>\n",
              "      <td>1.401917</td>\n",
              "    </tr>\n",
              "  </tbody>\n",
              "</table>\n",
              "</div>"
            ],
            "text/plain": [
              "                tournament  home_team_rank  away_team_rank\n",
              "tournament        1.046374        0.126343        0.125664\n",
              "home_team_rank    0.126343        1.402080       -0.717260\n",
              "away_team_rank    0.125664       -0.717260        1.401917"
            ]
          },
          "metadata": {},
          "execution_count": 54
        }
      ]
    },
    {
      "cell_type": "code",
      "metadata": {
        "colab": {
          "base_uri": "https://localhost:8080/",
          "height": 288
        },
        "id": "IB3k5Nhbq5Ou",
        "outputId": "c16f8ed9-d776-43f9-d954-cab9a8543cc2"
      },
      "source": [
        "#Checking for multicollinearlity in the data datasets\n",
        "#(We will use this dataset for logistic regression)\n",
        "#Checking for multicollinearlity in the away dataset\n",
        "matches = data.drop(columns=['Status'])\n",
        "correlations = matches.corr()\n",
        "pd.DataFrame(np.linalg.inv(correlations.values), index = correlations.index, columns=correlations.columns)\n",
        "\n"
      ],
      "execution_count": 55,
      "outputs": [
        {
          "output_type": "execute_result",
          "data": {
            "text/html": [
              "<div>\n",
              "<style scoped>\n",
              "    .dataframe tbody tr th:only-of-type {\n",
              "        vertical-align: middle;\n",
              "    }\n",
              "\n",
              "    .dataframe tbody tr th {\n",
              "        vertical-align: top;\n",
              "    }\n",
              "\n",
              "    .dataframe thead th {\n",
              "        text-align: right;\n",
              "    }\n",
              "</style>\n",
              "<table border=\"1\" class=\"dataframe\">\n",
              "  <thead>\n",
              "    <tr style=\"text-align: right;\">\n",
              "      <th></th>\n",
              "      <th>home_score</th>\n",
              "      <th>away_score</th>\n",
              "      <th>tournament</th>\n",
              "      <th>home_team_rank</th>\n",
              "      <th>home_team_weighted_points</th>\n",
              "      <th>away_team_rank</th>\n",
              "      <th>away_team_weighted_points</th>\n",
              "    </tr>\n",
              "  </thead>\n",
              "  <tbody>\n",
              "    <tr>\n",
              "      <th>home_score</th>\n",
              "      <td>1.269370</td>\n",
              "      <td>-0.027232</td>\n",
              "      <td>0.011466</td>\n",
              "      <td>0.283421</td>\n",
              "      <td>-0.280219</td>\n",
              "      <td>-0.737329</td>\n",
              "      <td>-0.094806</td>\n",
              "    </tr>\n",
              "    <tr>\n",
              "      <th>away_score</th>\n",
              "      <td>-0.027232</td>\n",
              "      <td>1.226536</td>\n",
              "      <td>-0.019620</td>\n",
              "      <td>-0.573384</td>\n",
              "      <td>-0.037425</td>\n",
              "      <td>0.230368</td>\n",
              "      <td>-0.330083</td>\n",
              "    </tr>\n",
              "    <tr>\n",
              "      <th>tournament</th>\n",
              "      <td>0.011466</td>\n",
              "      <td>-0.019620</td>\n",
              "      <td>1.061358</td>\n",
              "      <td>0.004751</td>\n",
              "      <td>-0.148242</td>\n",
              "      <td>-0.124150</td>\n",
              "      <td>-0.253951</td>\n",
              "    </tr>\n",
              "    <tr>\n",
              "      <th>home_team_rank</th>\n",
              "      <td>0.283421</td>\n",
              "      <td>-0.573384</td>\n",
              "      <td>0.004751</td>\n",
              "      <td>7.644301</td>\n",
              "      <td>6.456155</td>\n",
              "      <td>-2.054350</td>\n",
              "      <td>-1.146166</td>\n",
              "    </tr>\n",
              "    <tr>\n",
              "      <th>home_team_weighted_points</th>\n",
              "      <td>-0.280219</td>\n",
              "      <td>-0.037425</td>\n",
              "      <td>-0.148242</td>\n",
              "      <td>6.456155</td>\n",
              "      <td>7.201513</td>\n",
              "      <td>-1.019485</td>\n",
              "      <td>-1.367319</td>\n",
              "    </tr>\n",
              "    <tr>\n",
              "      <th>away_team_rank</th>\n",
              "      <td>-0.737329</td>\n",
              "      <td>0.230368</td>\n",
              "      <td>-0.124150</td>\n",
              "      <td>-2.054350</td>\n",
              "      <td>-1.019485</td>\n",
              "      <td>8.077120</td>\n",
              "      <td>6.772425</td>\n",
              "    </tr>\n",
              "    <tr>\n",
              "      <th>away_team_weighted_points</th>\n",
              "      <td>-0.094806</td>\n",
              "      <td>-0.330083</td>\n",
              "      <td>-0.253951</td>\n",
              "      <td>-1.146166</td>\n",
              "      <td>-1.367319</td>\n",
              "      <td>6.772425</td>\n",
              "      <td>7.492275</td>\n",
              "    </tr>\n",
              "  </tbody>\n",
              "</table>\n",
              "</div>"
            ],
            "text/plain": [
              "                           home_score  ...  away_team_weighted_points\n",
              "home_score                   1.269370  ...                  -0.094806\n",
              "away_score                  -0.027232  ...                  -0.330083\n",
              "tournament                   0.011466  ...                  -0.253951\n",
              "home_team_rank               0.283421  ...                  -1.146166\n",
              "home_team_weighted_points   -0.280219  ...                  -1.367319\n",
              "away_team_rank              -0.737329  ...                   6.772425\n",
              "away_team_weighted_points   -0.094806  ...                   7.492275\n",
              "\n",
              "[7 rows x 7 columns]"
            ]
          },
          "metadata": {},
          "execution_count": 55
        }
      ]
    },
    {
      "cell_type": "code",
      "metadata": {
        "id": "q0EANmemrZuC"
      },
      "source": [
        "# The values for the VIF have dropped to an acceptable score hence for \n",
        "# modelling we will not use the feature for team weighted points"
      ],
      "execution_count": null,
      "outputs": []
    },
    {
      "cell_type": "code",
      "metadata": {
        "colab": {
          "base_uri": "https://localhost:8080/",
          "height": 205
        },
        "id": "-5lq1pA7rY_m",
        "outputId": "32793083-8378-4cf3-a843-244b0bd21b06"
      },
      "source": [
        "matches = matches.drop(columns=['home_team_weighted_points', 'away_team_weighted_points'])\n",
        "correlations = matches.corr()\n",
        "pd.DataFrame(np.linalg.inv(correlations.values), index = correlations.index, columns=correlations.columns)"
      ],
      "execution_count": 56,
      "outputs": [
        {
          "output_type": "execute_result",
          "data": {
            "text/html": [
              "<div>\n",
              "<style scoped>\n",
              "    .dataframe tbody tr th:only-of-type {\n",
              "        vertical-align: middle;\n",
              "    }\n",
              "\n",
              "    .dataframe tbody tr th {\n",
              "        vertical-align: top;\n",
              "    }\n",
              "\n",
              "    .dataframe thead th {\n",
              "        text-align: right;\n",
              "    }\n",
              "</style>\n",
              "<table border=\"1\" class=\"dataframe\">\n",
              "  <thead>\n",
              "    <tr style=\"text-align: right;\">\n",
              "      <th></th>\n",
              "      <th>home_score</th>\n",
              "      <th>away_score</th>\n",
              "      <th>tournament</th>\n",
              "      <th>home_team_rank</th>\n",
              "      <th>away_team_rank</th>\n",
              "    </tr>\n",
              "  </thead>\n",
              "  <tbody>\n",
              "    <tr>\n",
              "      <th>home_score</th>\n",
              "      <td>1.255438</td>\n",
              "      <td>-0.035588</td>\n",
              "      <td>-0.000075</td>\n",
              "      <td>0.536267</td>\n",
              "      <td>-0.642367</td>\n",
              "    </tr>\n",
              "    <tr>\n",
              "      <th>away_score</th>\n",
              "      <td>-0.035588</td>\n",
              "      <td>1.210622</td>\n",
              "      <td>-0.033541</td>\n",
              "      <td>-0.536120</td>\n",
              "      <td>0.531777</td>\n",
              "    </tr>\n",
              "    <tr>\n",
              "      <th>tournament</th>\n",
              "      <td>-0.000075</td>\n",
              "      <td>-0.033541</td>\n",
              "      <td>1.047304</td>\n",
              "      <td>0.140756</td>\n",
              "      <td>0.111461</td>\n",
              "    </tr>\n",
              "    <tr>\n",
              "      <th>home_team_rank</th>\n",
              "      <td>0.536267</td>\n",
              "      <td>-0.536120</td>\n",
              "      <td>0.140756</td>\n",
              "      <td>1.855482</td>\n",
              "      <td>-1.212819</td>\n",
              "    </tr>\n",
              "    <tr>\n",
              "      <th>away_team_rank</th>\n",
              "      <td>-0.642367</td>\n",
              "      <td>0.531777</td>\n",
              "      <td>0.111461</td>\n",
              "      <td>-1.212819</td>\n",
              "      <td>1.948642</td>\n",
              "    </tr>\n",
              "  </tbody>\n",
              "</table>\n",
              "</div>"
            ],
            "text/plain": [
              "                home_score  away_score  ...  home_team_rank  away_team_rank\n",
              "home_score        1.255438   -0.035588  ...        0.536267       -0.642367\n",
              "away_score       -0.035588    1.210622  ...       -0.536120        0.531777\n",
              "tournament       -0.000075   -0.033541  ...        0.140756        0.111461\n",
              "home_team_rank    0.536267   -0.536120  ...        1.855482       -1.212819\n",
              "away_team_rank   -0.642367    0.531777  ...       -1.212819        1.948642\n",
              "\n",
              "[5 rows x 5 columns]"
            ]
          },
          "metadata": {},
          "execution_count": 56
        }
      ]
    },
    {
      "cell_type": "code",
      "metadata": {
        "id": "2hmqVPMOrZsL"
      },
      "source": [
        ""
      ],
      "execution_count": null,
      "outputs": []
    },
    {
      "cell_type": "markdown",
      "metadata": {
        "id": "4C6spvBYrpko"
      },
      "source": [
        "# 7. Modelling"
      ]
    },
    {
      "cell_type": "markdown",
      "metadata": {
        "id": "X-bKjxlosAW9"
      },
      "source": [
        "## Logistic Regression"
      ]
    },
    {
      "cell_type": "code",
      "metadata": {
        "colab": {
          "base_uri": "https://localhost:8080/",
          "height": 205
        },
        "id": "4eE7wHtsvhvw",
        "outputId": "c72762a8-662e-4e0d-eeb8-dd1ecfeadf11"
      },
      "source": [
        "matches = data.drop(columns=['home_team_weighted_points', 'away_team_weighted_points'])\n",
        "matches.head()"
      ],
      "execution_count": 57,
      "outputs": [
        {
          "output_type": "execute_result",
          "data": {
            "text/html": [
              "<div>\n",
              "<style scoped>\n",
              "    .dataframe tbody tr th:only-of-type {\n",
              "        vertical-align: middle;\n",
              "    }\n",
              "\n",
              "    .dataframe tbody tr th {\n",
              "        vertical-align: top;\n",
              "    }\n",
              "\n",
              "    .dataframe thead th {\n",
              "        text-align: right;\n",
              "    }\n",
              "</style>\n",
              "<table border=\"1\" class=\"dataframe\">\n",
              "  <thead>\n",
              "    <tr style=\"text-align: right;\">\n",
              "      <th></th>\n",
              "      <th>home_team</th>\n",
              "      <th>away_team</th>\n",
              "      <th>home_score</th>\n",
              "      <th>away_score</th>\n",
              "      <th>tournament</th>\n",
              "      <th>home_team_rank</th>\n",
              "      <th>away_team_rank</th>\n",
              "      <th>Status</th>\n",
              "    </tr>\n",
              "  </thead>\n",
              "  <tbody>\n",
              "    <tr>\n",
              "      <th>0</th>\n",
              "      <td>United Arab Emirates</td>\n",
              "      <td>Qatar</td>\n",
              "      <td>3</td>\n",
              "      <td>1</td>\n",
              "      <td>22</td>\n",
              "      <td>118.75</td>\n",
              "      <td>95.0</td>\n",
              "      <td>2</td>\n",
              "    </tr>\n",
              "    <tr>\n",
              "      <th>1</th>\n",
              "      <td>Bahrain</td>\n",
              "      <td>Qatar</td>\n",
              "      <td>0</td>\n",
              "      <td>0</td>\n",
              "      <td>21</td>\n",
              "      <td>101.50</td>\n",
              "      <td>95.0</td>\n",
              "      <td>0</td>\n",
              "    </tr>\n",
              "    <tr>\n",
              "      <th>2</th>\n",
              "      <td>Indonesia</td>\n",
              "      <td>Qatar</td>\n",
              "      <td>2</td>\n",
              "      <td>3</td>\n",
              "      <td>21</td>\n",
              "      <td>141.25</td>\n",
              "      <td>95.0</td>\n",
              "      <td>1</td>\n",
              "    </tr>\n",
              "    <tr>\n",
              "      <th>3</th>\n",
              "      <td>United Arab Emirates</td>\n",
              "      <td>Kuwait</td>\n",
              "      <td>2</td>\n",
              "      <td>3</td>\n",
              "      <td>21</td>\n",
              "      <td>118.75</td>\n",
              "      <td>98.5</td>\n",
              "      <td>1</td>\n",
              "    </tr>\n",
              "    <tr>\n",
              "      <th>4</th>\n",
              "      <td>Oman</td>\n",
              "      <td>Kuwait</td>\n",
              "      <td>1</td>\n",
              "      <td>0</td>\n",
              "      <td>22</td>\n",
              "      <td>96.50</td>\n",
              "      <td>98.5</td>\n",
              "      <td>2</td>\n",
              "    </tr>\n",
              "  </tbody>\n",
              "</table>\n",
              "</div>"
            ],
            "text/plain": [
              "              home_team away_team  ...  away_team_rank  Status\n",
              "0  United Arab Emirates     Qatar  ...            95.0       2\n",
              "1               Bahrain     Qatar  ...            95.0       0\n",
              "2             Indonesia     Qatar  ...            95.0       1\n",
              "3  United Arab Emirates    Kuwait  ...            98.5       1\n",
              "4                  Oman    Kuwait  ...            98.5       2\n",
              "\n",
              "[5 rows x 8 columns]"
            ]
          },
          "metadata": {},
          "execution_count": 57
        }
      ]
    },
    {
      "cell_type": "code",
      "metadata": {
        "id": "bSrqW_TIv5GN"
      },
      "source": [
        "# We shall to predict from the home_team view, whether a game will be a win(2), lose(1) or a draw(0).\n",
        "\n",
        "# Therefore, our target is Status, and the rest of the variables are the features."
      ],
      "execution_count": null,
      "outputs": []
    },
    {
      "cell_type": "code",
      "metadata": {
        "colab": {
          "base_uri": "https://localhost:8080/"
        },
        "id": "zd2cC_NWwNu-",
        "outputId": "b9b550ba-f013-448d-b8d9-891d8ddc4f81"
      },
      "source": [
        "#Splitting the data\n",
        "X = matches.iloc[:, 2:7].values\n",
        "y = matches.iloc[:, 7].values\n",
        "print(X)\n",
        "print(y)"
      ],
      "execution_count": 58,
      "outputs": [
        {
          "output_type": "stream",
          "name": "stdout",
          "text": [
            "[[  3.           1.          22.         118.75        95.        ]\n",
            " [  0.           0.          21.         101.5         95.        ]\n",
            " [  2.           3.          21.         141.25        95.        ]\n",
            " ...\n",
            " [  2.           5.           7.         154.66666667 144.5       ]\n",
            " [  3.           0.           7.          91.66666667 154.66666667]\n",
            " [  1.           1.           7.         127.5        168.66666667]]\n",
            "[2 0 1 ... 1 2 0]\n"
          ]
        }
      ]
    },
    {
      "cell_type": "code",
      "metadata": {
        "id": "R9Ru1qupwOot"
      },
      "source": [
        "#Training the model\n",
        "\n",
        "from sklearn.model_selection import train_test_split\n",
        "X_train, X_test, y_train, y_test = train_test_split(X, y, test_size = 0.2, random_state=25)"
      ],
      "execution_count": 59,
      "outputs": []
    },
    {
      "cell_type": "code",
      "metadata": {
        "colab": {
          "base_uri": "https://localhost:8080/"
        },
        "id": "hifbTVMuwW7B",
        "outputId": "a319e807-ccb4-4cbf-e1d7-c9924993681a"
      },
      "source": [
        "# Fitting our model\n",
        " \n",
        "from sklearn.linear_model import LogisticRegression\n",
        "\n",
        "LogReg = LogisticRegression()\n",
        "LogReg.fit(X_train, y_train)"
      ],
      "execution_count": 60,
      "outputs": [
        {
          "output_type": "execute_result",
          "data": {
            "text/plain": [
              "LogisticRegression(C=1.0, class_weight=None, dual=False, fit_intercept=True,\n",
              "                   intercept_scaling=1, l1_ratio=None, max_iter=100,\n",
              "                   multi_class='auto', n_jobs=None, penalty='l2',\n",
              "                   random_state=None, solver='lbfgs', tol=0.0001, verbose=0,\n",
              "                   warm_start=False)"
            ]
          },
          "metadata": {},
          "execution_count": 60
        }
      ]
    },
    {
      "cell_type": "code",
      "metadata": {
        "colab": {
          "base_uri": "https://localhost:8080/"
        },
        "id": "jdkLvSWnwbBV",
        "outputId": "055de07a-e933-4a67-b36a-bf396583675f"
      },
      "source": [
        "# Using our model to make a prediction\n",
        "#\n",
        "y_pred = LogReg.predict(X_test)\n",
        "y_pred"
      ],
      "execution_count": 61,
      "outputs": [
        {
          "output_type": "execute_result",
          "data": {
            "text/plain": [
              "array([0, 1, 0, ..., 2, 1, 0])"
            ]
          },
          "metadata": {},
          "execution_count": 61
        }
      ]
    },
    {
      "cell_type": "code",
      "metadata": {
        "colab": {
          "base_uri": "https://localhost:8080/"
        },
        "id": "BFIGdXcgwwUT",
        "outputId": "94ea9ea7-4f1b-42f3-afae-4fee77f04952"
      },
      "source": [
        "# Evaluating the model\n",
        "\n",
        "from sklearn.metrics import confusion_matrix\n",
        "confusion_matrix = confusion_matrix(y_test, y_pred)\n",
        "confusion_matrix"
      ],
      "execution_count": 62,
      "outputs": [
        {
          "output_type": "execute_result",
          "data": {
            "text/plain": [
              "array([[278,   0,   0],\n",
              "       [  0, 323,   0],\n",
              "       [  0,   0, 547]])"
            ]
          },
          "metadata": {},
          "execution_count": 62
        }
      ]
    },
    {
      "cell_type": "markdown",
      "metadata": {
        "id": "DAgYucLLxTCu"
      },
      "source": [
        "The confusion matrix tells us that; \n",
        "\n",
        "*   278 matches were draws \n",
        "*   The home team won 547 matches\n",
        "*   Home teams lost 323 matches \n",
        "\n",
        "\n",
        "\n",
        " \n",
        " All of which were predicted by the model"
      ]
    },
    {
      "cell_type": "code",
      "metadata": {
        "colab": {
          "base_uri": "https://localhost:8080/"
        },
        "id": "ojE9-XL2x5Xb",
        "outputId": "cd7bda98-1577-45e6-e87f-c10643b5ca17"
      },
      "source": [
        "#accuracy score\n",
        "print('Accuracy of logistic regression classifier on test set: {:.2f}'.format(LogReg.score(X_test,y_test)))"
      ],
      "execution_count": 63,
      "outputs": [
        {
          "output_type": "stream",
          "name": "stdout",
          "text": [
            "Accuracy of logistic regression classifier on test set: 1.00\n"
          ]
        }
      ]
    },
    {
      "cell_type": "markdown",
      "metadata": {
        "id": "Quw4piasyJtg"
      },
      "source": [
        "## Hyperparameter tuning"
      ]
    },
    {
      "cell_type": "code",
      "metadata": {
        "colab": {
          "base_uri": "https://localhost:8080/"
        },
        "id": "Oy-sZquByMi1",
        "outputId": "65aaba95-daeb-4321-dbc0-f8c32e1b85e2"
      },
      "source": [
        "from sklearn.preprocessing import StandardScaler\n",
        "from sklearn.model_selection import GridSearchCV\n",
        "from sklearn.model_selection import KFold\n",
        "num_folds=10\n",
        "num_folds = 10\n",
        "seed = 7\n",
        "scoring = 'accuracy'\n",
        "results = []\n",
        "names = []\n",
        "scaler = StandardScaler().fit(X_train)\n",
        "rescaledX = scaler.transform(X_train)\n",
        "c_values = [0.1, 0.3, 0.5, 0.7, 0.9, 1.0, 1.3, 1.5, 1.7, 2.0]\n",
        "penalty = ['l1', 'l2']\n",
        "param_grid = dict(C=c_values, penalty=penalty)\n",
        "model = LogisticRegression()\n",
        "kfold = KFold(n_splits=num_folds, random_state=seed)\n",
        "grid = GridSearchCV(estimator=model, param_grid=param_grid, scoring=scoring, cv=kfold)\n",
        "grid_result = grid.fit(rescaledX, y_train)\n",
        "print(\"Best: {} using {}\".format(grid_result.best_score_, grid_result.best_params_))"
      ],
      "execution_count": 64,
      "outputs": [
        {
          "output_type": "stream",
          "name": "stdout",
          "text": [
            "Best: 1.0 using {'C': 0.1, 'penalty': 'l2'}\n"
          ]
        }
      ]
    },
    {
      "cell_type": "code",
      "metadata": {
        "colab": {
          "base_uri": "https://localhost:8080/"
        },
        "id": "idtgxKuYyWwn",
        "outputId": "2ac7804a-2b77-40cb-b936-daac8e5866aa"
      },
      "source": [
        "# Validating the model\n",
        "#Data preparation\n",
        "scaler = StandardScaler().fit(X_train)\n",
        "s_X = scaler.transform(X_train)\n",
        "model = LogisticRegression(C=0.1, penalty='l2')\n",
        "model.fit(s_X, y_train)"
      ],
      "execution_count": 65,
      "outputs": [
        {
          "output_type": "execute_result",
          "data": {
            "text/plain": [
              "LogisticRegression(C=0.1, class_weight=None, dual=False, fit_intercept=True,\n",
              "                   intercept_scaling=1, l1_ratio=None, max_iter=100,\n",
              "                   multi_class='auto', n_jobs=None, penalty='l2',\n",
              "                   random_state=None, solver='lbfgs', tol=0.0001, verbose=0,\n",
              "                   warm_start=False)"
            ]
          },
          "metadata": {},
          "execution_count": 65
        }
      ]
    },
    {
      "cell_type": "code",
      "metadata": {
        "colab": {
          "base_uri": "https://localhost:8080/"
        },
        "id": "Uetc_3DHycWl",
        "outputId": "46b43f65-4050-4cf3-85e8-c07016ce413c"
      },
      "source": [
        "from sklearn.metrics import accuracy_score\n",
        "#Estimating accurancy\n",
        "s_X_test = scaler.transform(X_test)\n",
        "predictions = model.predict(s_X_test)\n",
        "print(accuracy_score(y_test, predictions))\n"
      ],
      "execution_count": 66,
      "outputs": [
        {
          "output_type": "stream",
          "name": "stdout",
          "text": [
            "1.0\n"
          ]
        }
      ]
    },
    {
      "cell_type": "code",
      "metadata": {
        "colab": {
          "base_uri": "https://localhost:8080/"
        },
        "id": "mcEb6MH8ykN_",
        "outputId": "ae841244-d9f3-438a-8e79-bf8628739e84"
      },
      "source": [
        "# Residual Plotting\n",
        "residuals = np.subtract(y_pred, y_test)\n",
        "pd.DataFrame(residuals).describe()\n",
        "\n",
        "residuals.mean()\n",
        "\n",
        "# Therefore There are no residuals in logistic model"
      ],
      "execution_count": 67,
      "outputs": [
        {
          "output_type": "execute_result",
          "data": {
            "text/plain": [
              "0.0"
            ]
          },
          "metadata": {},
          "execution_count": 67
        }
      ]
    },
    {
      "cell_type": "markdown",
      "metadata": {
        "id": "jV2czeVNzdVw"
      },
      "source": [
        "## Polynomial Regression"
      ]
    },
    {
      "cell_type": "code",
      "metadata": {
        "id": "5k-E3GMOzgAu"
      },
      "source": [
        "#Import libaries\n",
        "from sklearn.preprocessing import PolynomialFeatures\n",
        "\n",
        "from sklearn.model_selection import train_test_split\n",
        "\n",
        "# Import LinearRegression method from sklearn linear_model library\n",
        "from sklearn.linear_model import LinearRegression\n",
        "\n",
        "from sklearn.metrics import mean_squared_error\n",
        "\n",
        "from sklearn.pipeline import make_pipeline"
      ],
      "execution_count": 68,
      "outputs": []
    },
    {
      "cell_type": "code",
      "metadata": {
        "colab": {
          "base_uri": "https://localhost:8080/",
          "height": 236
        },
        "id": "pmDa04y_yvcq",
        "outputId": "e5a0349f-bbd1-4016-f007-a766b8c2df49"
      },
      "source": [
        "# To perform polynomial regression, group the dataset and create a new dataframe with the mean of the columns as the\n",
        "# numerical data that is held in the columns. This is because there have been many rankings done over the years and predicting using each of these\n",
        "# individual rankings would be difficult. We thus summarize the data so as to enable regression.\n",
        "\n",
        "# NB: (At the end of the polynomial regression exercise I show the scatter plot of using each of the individual observations, showing why it would be difficult\n",
        "# to predict using these individual observations)\n",
        "home_df =  home.groupby(['home_team_rank']).mean()\n",
        "\n",
        "home_df.head()"
      ],
      "execution_count": 72,
      "outputs": [
        {
          "output_type": "execute_result",
          "data": {
            "text/html": [
              "<div>\n",
              "<style scoped>\n",
              "    .dataframe tbody tr th:only-of-type {\n",
              "        vertical-align: middle;\n",
              "    }\n",
              "\n",
              "    .dataframe tbody tr th {\n",
              "        vertical-align: top;\n",
              "    }\n",
              "\n",
              "    .dataframe thead th {\n",
              "        text-align: right;\n",
              "    }\n",
              "</style>\n",
              "<table border=\"1\" class=\"dataframe\">\n",
              "  <thead>\n",
              "    <tr style=\"text-align: right;\">\n",
              "      <th></th>\n",
              "      <th>home_score</th>\n",
              "      <th>tournament</th>\n",
              "      <th>away_team_rank</th>\n",
              "      <th>home_team_weighted_points</th>\n",
              "    </tr>\n",
              "    <tr>\n",
              "      <th>home_team_rank</th>\n",
              "      <th></th>\n",
              "      <th></th>\n",
              "      <th></th>\n",
              "      <th></th>\n",
              "    </tr>\n",
              "  </thead>\n",
              "  <tbody>\n",
              "    <tr>\n",
              "      <th>1.000000</th>\n",
              "      <td>2.433333</td>\n",
              "      <td>24.600000</td>\n",
              "      <td>40.425000</td>\n",
              "      <td>1162.936750</td>\n",
              "    </tr>\n",
              "    <tr>\n",
              "      <th>1.250000</th>\n",
              "      <td>2.222222</td>\n",
              "      <td>17.666667</td>\n",
              "      <td>40.027778</td>\n",
              "      <td>1168.822500</td>\n",
              "    </tr>\n",
              "    <tr>\n",
              "      <th>1.500000</th>\n",
              "      <td>2.090909</td>\n",
              "      <td>23.818182</td>\n",
              "      <td>30.825758</td>\n",
              "      <td>1198.507500</td>\n",
              "    </tr>\n",
              "    <tr>\n",
              "      <th>1.666667</th>\n",
              "      <td>2.250000</td>\n",
              "      <td>21.250000</td>\n",
              "      <td>22.187500</td>\n",
              "      <td>1264.343333</td>\n",
              "    </tr>\n",
              "    <tr>\n",
              "      <th>1.833333</th>\n",
              "      <td>1.800000</td>\n",
              "      <td>21.100000</td>\n",
              "      <td>48.525000</td>\n",
              "      <td>1095.512750</td>\n",
              "    </tr>\n",
              "  </tbody>\n",
              "</table>\n",
              "</div>"
            ],
            "text/plain": [
              "                home_score  ...  home_team_weighted_points\n",
              "home_team_rank              ...                           \n",
              "1.000000          2.433333  ...                1162.936750\n",
              "1.250000          2.222222  ...                1168.822500\n",
              "1.500000          2.090909  ...                1198.507500\n",
              "1.666667          2.250000  ...                1264.343333\n",
              "1.833333          1.800000  ...                1095.512750\n",
              "\n",
              "[5 rows x 4 columns]"
            ]
          },
          "metadata": {},
          "execution_count": 72
        }
      ]
    },
    {
      "cell_type": "code",
      "metadata": {
        "id": "5EvcoFqU-6Lg"
      },
      "source": [
        "# specify the independent and dependent variables\n",
        "\n",
        "X = home_df.index.values.reshape(-1, 1)\n",
        "\n",
        "y = home_df['home_score'].values.reshape(-1, 1)"
      ],
      "execution_count": 73,
      "outputs": []
    },
    {
      "cell_type": "code",
      "metadata": {
        "colab": {
          "base_uri": "https://localhost:8080/",
          "height": 295
        },
        "id": "wtJGJ6Go_E9p",
        "outputId": "1c79eabc-45d8-492d-accb-4ee702063768"
      },
      "source": [
        "# Visualizing the dataset by plotting a scatter plot\n",
        "\n",
        "plt.scatter(X, y, color='blue') \n",
        "plt.title('Home Team Score Vs Home Team Rank-Polynomial Regression using Means')\n",
        "plt.xlabel('Home Team Rank')\n",
        "plt.ylabel('Home Team Score')\n",
        "plt.show()"
      ],
      "execution_count": 74,
      "outputs": [
        {
          "output_type": "display_data",
          "data": {
            "image/png": "[encoded data removed]",
            "text/plain": [
              "<Figure size 432x288 with 1 Axes>"
            ]
          },
          "metadata": {
            "needs_background": "light"
          }
        }
      ]
    },
    {
      "cell_type": "code",
      "metadata": {
        "colab": {
          "base_uri": "https://localhost:8080/",
          "height": 559
        },
        "id": "Kze0daFa_QnQ",
        "outputId": "f7f89b03-bf77-417c-95f2-0ae0a83f8f65"
      },
      "source": [
        "# Split the dataset into train and test sets\n",
        "X_train, Y_train, X_test, Y_test = train_test_split(X,y, test_size = 0.2, random_state=0)\n",
        "\n",
        "\n",
        "# Fit Linear Regression model to the dataset(optional to compare the linear regression model to the polynomial regression model)\n",
        "reg_line = LinearRegression()\n",
        "reg_line.fit(X,y)\n",
        "\n",
        "# Visualize the Linear Regression results\n",
        "plt.scatter(X, y, color='blue') # You can put any color you like. This just helps us highlight the data points\n",
        "plt.plot(X, reg_line.predict(X), color='red')\n",
        "plt.title('Linear Regression Home Team Score Prediction')\n",
        "plt.xlabel('Home Team Rank')\n",
        "plt.ylabel('Home Team Score')\n",
        "plt.show()\n",
        "\n",
        "# Fit polynomial Regression to the dataset\n",
        "poly_reg = PolynomialFeatures(degree = 4) \n",
        "X_poly = poly_reg.fit_transform(X)\n",
        "\n",
        "\n",
        "pol_reg = LinearRegression()\n",
        "pol_reg.fit(X_poly, y)\n",
        "\n",
        "\n",
        "#Visualize the Polynomial Regression results\n",
        "plt.scatter(X, y, color='orange') # To help highlight the data points\n",
        "plt.plot(X, pol_reg.predict(X_poly), color='red')\n",
        "plt.title('Polynomial Regression Home Team Score Prediction')\n",
        "plt.ylabel('Home Team Score')\n",
        "plt.show()"
      ],
      "execution_count": 75,
      "outputs": [
        {
          "output_type": "display_data",
          "data": {
            "image/png": "[encoded data removed]",
            "text/plain": [
              "<Figure size 432x288 with 1 Axes>"
            ]
          },
          "metadata": {
            "needs_background": "light"
          }
        },
        {
          "output_type": "display_data",
          "data": {
            "image/png": "[encoded data removed]",
            "text/plain": [
              "<Figure size 432x288 with 1 Axes>"
            ]
          },
          "metadata": {
            "needs_background": "light"
          }
        }
      ]
    },
    {
      "cell_type": "code",
      "metadata": {
        "colab": {
          "base_uri": "https://localhost:8080/"
        },
        "id": "UvlodUsX_efK",
        "outputId": "98bdf2e9-e5f1-4f9a-9822-8aa182d42d4c"
      },
      "source": [
        "# Use the polynomial equation above to predict the score of the home team given that the home team is ranked position number 6\n",
        "# and number 50 respectively\n",
        "\n",
        "home_team_position = 6\n",
        "lin_pred = reg_line.predict([[home_team_position]])\n",
        "print('Linear prediction: %d' %lin_pred)\n",
        "\n",
        "# Predict using Polynomial Regression\n",
        "poly_pred = pol_reg.predict(poly_reg.fit_transform([[home_team_position]]))\n",
        "print('Polynomial prediction: %d' %poly_pred)\n",
        "\n",
        "print('*'*70)\n",
        "\n",
        "home_team_position = 50\n",
        "lin_pred = reg_line.predict([[home_team_position]])\n",
        "print('Linear prediction: %d' %lin_pred)\n",
        "\n",
        "# Predict using Polynomial Regression\n",
        "poly_pred = pol_reg.predict(poly_reg.fit_transform([[home_team_position]]))\n",
        "print('Polynomial prediction: %d' %poly_pred)"
      ],
      "execution_count": 76,
      "outputs": [
        {
          "output_type": "stream",
          "name": "stdout",
          "text": [
            "Linear prediction: 1\n",
            "Polynomial prediction: 2\n",
            "**********************************************************************\n",
            "Linear prediction: 1\n",
            "Polynomial prediction: 1\n"
          ]
        }
      ]
    },
    {
      "cell_type": "code",
      "metadata": {
        "colab": {
          "base_uri": "https://localhost:8080/",
          "height": 480
        },
        "id": "ZuMaWWHM_9li",
        "outputId": "86b9419e-679d-49b1-8975-40642e747049"
      },
      "source": [
        "# This section provides a scatter plot using the individual observations and shows why it would be difficult to predict using these\n",
        "# indivisual observations\n",
        "\n",
        "print(home_df.head(2))\n",
        "\n",
        "X = home_df.home_team_rank.values.reshape(-1, 1)\n",
        "\n",
        "y = home_df['home_score'].values.reshape(-1, 1)\n",
        "\n",
        "# Visualizing the dataset by plotting a scatter plot\n",
        "\n",
        "plt.scatter(X, y, color='blue') \n",
        "plt.title('Home Team Score Vs Home Team Rank-Polynomial Regression using Individual Observations')\n",
        "plt.xlabel('Home Team Rank')\n",
        "plt.ylabel('Home Team Score')\n",
        "plt.show()\n",
        "\n",
        "# Split the dataset into train and test sets\n",
        "X_train, Y_train, X_test, Y_test = train_test_split(X,y, test_size = 0.2, random_state=0)\n",
        "\n",
        "\n",
        "# Fit Linear Regression model to the dataset(optional to compare the linear regression model to the polynomial regression model)\n",
        "reg_line = LinearRegression()\n",
        "reg_line.fit(X,y)\n",
        "\n",
        "# Visualize the Linear Regression results\n",
        "plt.scatter(X, y, color='blue') # You can put any color you like. This just helps us highlight the data points\n",
        "plt.plot(X, reg_line.predict(X), color='red')\n",
        "plt.title('Linear Regression Home Team Score Prediction')\n",
        "plt.xlabel('Home Team Rank')\n",
        "plt.ylabel('Home Team Score')\n",
        "plt.show()\n",
        "\n",
        "# Fit polynomial Regression to the dataset\n",
        "poly_reg = PolynomialFeatures(degree = 4) \n",
        "X_poly = poly_reg.fit_transform(X)\n",
        "\n",
        "\n",
        "pol_reg = LinearRegression()\n",
        "pol_reg.fit(X_poly, y)\n",
        "\n",
        "#Visualize the Polynomial Regression results\n",
        "plt.scatter(X, y, color='orange') # To help highlight the data points\n",
        "plt.plot(X, pol_reg.predict(X_poly), color='red')\n",
        "plt.title('Polynomial Regression Home Team Score Prediction')\n",
        "plt.xlabel('Home Team Rank')\n",
        "plt.ylabel('Home Team Score')\n",
        "plt.show()"
      ],
      "execution_count": 79,
      "outputs": [
        {
          "output_type": "stream",
          "name": "stdout",
          "text": [
            "                home_score  ...  home_team_weighted_points\n",
            "home_team_rank              ...                           \n",
            "1.00              2.433333  ...                 1162.93675\n",
            "1.25              2.222222  ...                 1168.82250\n",
            "\n",
            "[2 rows x 4 columns]\n"
          ]
        },
        {
          "output_type": "error",
          "ename": "AttributeError",
          "evalue": "ignored",
          "traceback": [
            "\u001b[0;31m---------------------------------------------------------------------------\u001b[0m",
            "\u001b[0;31mAttributeError\u001b[0m                            Traceback (most recent call last)",
            "\u001b[0;32m<ipython-input-79-be8743af2fcf>\u001b[0m in \u001b[0;36m<module>\u001b[0;34m()\u001b[0m\n\u001b[1;32m      4\u001b[0m \u001b[0mprint\u001b[0m\u001b[0;34m(\u001b[0m\u001b[0mhome_df\u001b[0m\u001b[0;34m.\u001b[0m\u001b[0mhead\u001b[0m\u001b[0;34m(\u001b[0m\u001b[0;36m2\u001b[0m\u001b[0;34m)\u001b[0m\u001b[0;34m)\u001b[0m\u001b[0;34m\u001b[0m\u001b[0;34m\u001b[0m\u001b[0m\n\u001b[1;32m      5\u001b[0m \u001b[0;34m\u001b[0m\u001b[0m\n\u001b[0;32m----> 6\u001b[0;31m \u001b[0mX\u001b[0m \u001b[0;34m=\u001b[0m \u001b[0mhome_df\u001b[0m\u001b[0;34m.\u001b[0m\u001b[0mhome_team_rank\u001b[0m\u001b[0;34m.\u001b[0m\u001b[0mvalues\u001b[0m\u001b[0;34m.\u001b[0m\u001b[0mreshape\u001b[0m\u001b[0;34m(\u001b[0m\u001b[0;34m-\u001b[0m\u001b[0;36m1\u001b[0m\u001b[0;34m,\u001b[0m \u001b[0;36m1\u001b[0m\u001b[0;34m)\u001b[0m\u001b[0;34m\u001b[0m\u001b[0;34m\u001b[0m\u001b[0m\n\u001b[0m\u001b[1;32m      7\u001b[0m \u001b[0;34m\u001b[0m\u001b[0m\n\u001b[1;32m      8\u001b[0m \u001b[0my\u001b[0m \u001b[0;34m=\u001b[0m \u001b[0mhome_df\u001b[0m\u001b[0;34m[\u001b[0m\u001b[0;34m'home_score'\u001b[0m\u001b[0;34m]\u001b[0m\u001b[0;34m.\u001b[0m\u001b[0mvalues\u001b[0m\u001b[0;34m.\u001b[0m\u001b[0mreshape\u001b[0m\u001b[0;34m(\u001b[0m\u001b[0;34m-\u001b[0m\u001b[0;36m1\u001b[0m\u001b[0;34m,\u001b[0m \u001b[0;36m1\u001b[0m\u001b[0;34m)\u001b[0m\u001b[0;34m\u001b[0m\u001b[0;34m\u001b[0m\u001b[0m\n",
            "\u001b[0;32m/usr/local/lib/python3.7/dist-packages/pandas/core/generic.py\u001b[0m in \u001b[0;36m__getattr__\u001b[0;34m(self, name)\u001b[0m\n\u001b[1;32m   5139\u001b[0m             \u001b[0;32mif\u001b[0m \u001b[0mself\u001b[0m\u001b[0;34m.\u001b[0m\u001b[0m_info_axis\u001b[0m\u001b[0;34m.\u001b[0m\u001b[0m_can_hold_identifiers_and_holds_name\u001b[0m\u001b[0;34m(\u001b[0m\u001b[0mname\u001b[0m\u001b[0;34m)\u001b[0m\u001b[0;34m:\u001b[0m\u001b[0;34m\u001b[0m\u001b[0;34m\u001b[0m\u001b[0m\n\u001b[1;32m   5140\u001b[0m                 \u001b[0;32mreturn\u001b[0m \u001b[0mself\u001b[0m\u001b[0;34m[\u001b[0m\u001b[0mname\u001b[0m\u001b[0;34m]\u001b[0m\u001b[0;34m\u001b[0m\u001b[0;34m\u001b[0m\u001b[0m\n\u001b[0;32m-> 5141\u001b[0;31m             \u001b[0;32mreturn\u001b[0m \u001b[0mobject\u001b[0m\u001b[0;34m.\u001b[0m\u001b[0m__getattribute__\u001b[0m\u001b[0;34m(\u001b[0m\u001b[0mself\u001b[0m\u001b[0;34m,\u001b[0m \u001b[0mname\u001b[0m\u001b[0;34m)\u001b[0m\u001b[0;34m\u001b[0m\u001b[0;34m\u001b[0m\u001b[0m\n\u001b[0m\u001b[1;32m   5142\u001b[0m \u001b[0;34m\u001b[0m\u001b[0m\n\u001b[1;32m   5143\u001b[0m     \u001b[0;32mdef\u001b[0m \u001b[0m__setattr__\u001b[0m\u001b[0;34m(\u001b[0m\u001b[0mself\u001b[0m\u001b[0;34m,\u001b[0m \u001b[0mname\u001b[0m\u001b[0;34m:\u001b[0m \u001b[0mstr\u001b[0m\u001b[0;34m,\u001b[0m \u001b[0mvalue\u001b[0m\u001b[0;34m)\u001b[0m \u001b[0;34m->\u001b[0m \u001b[0;32mNone\u001b[0m\u001b[0;34m:\u001b[0m\u001b[0;34m\u001b[0m\u001b[0;34m\u001b[0m\u001b[0m\n",
            "\u001b[0;31mAttributeError\u001b[0m: 'DataFrame' object has no attribute 'home_team_rank'"
          ]
        }
      ]
    }
  ]
}